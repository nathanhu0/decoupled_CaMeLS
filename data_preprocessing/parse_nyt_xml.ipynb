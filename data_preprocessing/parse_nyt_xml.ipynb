{
 "cells": [
  {
   "cell_type": "code",
   "execution_count": 2,
   "metadata": {},
   "outputs": [],
   "source": [
    "import pandas as pd\n",
    "import glob\n",
    "import xml.etree.ElementTree as ET\n",
    "import pickle\n",
    "import os\n",
    "import numpy as np\n",
    "from tqdm import tqdm\n"
   ]
  },
  {
   "cell_type": "code",
   "execution_count": 5,
   "metadata": {},
   "outputs": [],
   "source": [
    "#given a xml file corresponding to an article in NYT corpus, return a dictionary with title, date, text, and doc_id\n",
    "def parse_xml(xml_file):\n",
    "    tree = ET.parse(xml_file)\n",
    "    root = tree.getroot()\n",
    "    title = root.find('head/title')\n",
    "    if title is not None: title = title.text\n",
    "    # Get the publication date\n",
    "    year = root.find('head/meta[@name=\"publication_year\"]')\n",
    "    if year is not None:\n",
    "        year = year.attrib['content']\n",
    "    month = root.find('head/meta[@name=\"publication_month\"]')\n",
    "    if month is not None:\n",
    "        month = month.attrib['content']\n",
    "    day = root.find('head/meta[@name=\"publication_day_of_month\"]')\n",
    "    if day is not None:\n",
    "        day = day.attrib['content']\n",
    "\n",
    "    date = f\"{year}-{month}-{day}\"\n",
    "    full_text_block = root.find(\".//block[@class='full_text']\")\n",
    "    if full_text_block is None:\n",
    "        text_by_para = None\n",
    "    else:\n",
    "        text_by_para = [e.text for e in full_text_block.findall(\".//p\")]\n",
    "    doc_id = root.find(\".//doc-id\")\n",
    "    if doc_id is not None:\n",
    "        doc_id = doc_id.attrib['id-string']\n",
    "    return {'title': title, 'date': date, 'text': text_by_para, 'doc_id': doc_id}"
   ]
  },
  {
   "cell_type": "code",
   "execution_count": 2,
   "metadata": {},
   "outputs": [
    {
     "ename": "KeyboardInterrupt",
     "evalue": "",
     "output_type": "error",
     "traceback": [
      "\u001b[0;31m---------------------------------------------------------------------------\u001b[0m",
      "\u001b[0;31mKeyboardInterrupt\u001b[0m                         Traceback (most recent call last)",
      "Cell \u001b[0;32mIn[2], line 4\u001b[0m\n\u001b[1;32m      2\u001b[0m XML_DIR \u001b[39m=\u001b[39m \u001b[39m'\u001b[39m\u001b[39m/scr/em7/LDC2008T19\u001b[39m\u001b[39m'\u001b[39m\n\u001b[1;32m      3\u001b[0m file_info \u001b[39m=\u001b[39m []\n\u001b[0;32m----> 4\u001b[0m \u001b[39mfor\u001b[39;00m xml_file \u001b[39min\u001b[39;00m tqdm(glob\u001b[39m.\u001b[39;49mglob(\u001b[39mf\u001b[39;49m\u001b[39m'\u001b[39;49m\u001b[39m{\u001b[39;49;00mXML_DIR\u001b[39m}\u001b[39;49;00m\u001b[39m/**/*.xml\u001b[39;49m\u001b[39m'\u001b[39;49m, recursive\u001b[39m=\u001b[39;49m\u001b[39mTrue\u001b[39;49;00m)):\n\u001b[1;32m      5\u001b[0m     file_info\u001b[39m.\u001b[39mappend(parse_xml(xml_file))\n\u001b[1;32m      6\u001b[0m corpus_df \u001b[39m=\u001b[39m pd\u001b[39m.\u001b[39mDataFrame(file_info)\n",
      "File \u001b[0;32m/usr/lib/python3.8/glob.py:21\u001b[0m, in \u001b[0;36mglob\u001b[0;34m(pathname, recursive)\u001b[0m\n\u001b[1;32m     10\u001b[0m \u001b[39mdef\u001b[39;00m \u001b[39mglob\u001b[39m(pathname, \u001b[39m*\u001b[39m, recursive\u001b[39m=\u001b[39m\u001b[39mFalse\u001b[39;00m):\n\u001b[1;32m     11\u001b[0m \u001b[39m    \u001b[39m\u001b[39m\"\"\"Return a list of paths matching a pathname pattern.\u001b[39;00m\n\u001b[1;32m     12\u001b[0m \n\u001b[1;32m     13\u001b[0m \u001b[39m    The pattern may contain simple shell-style wildcards a la\u001b[39;00m\n\u001b[0;32m   (...)\u001b[0m\n\u001b[1;32m     19\u001b[0m \u001b[39m    zero or more directories and subdirectories.\u001b[39;00m\n\u001b[1;32m     20\u001b[0m \u001b[39m    \"\"\"\u001b[39;00m\n\u001b[0;32m---> 21\u001b[0m     \u001b[39mreturn\u001b[39;00m \u001b[39mlist\u001b[39;49m(iglob(pathname, recursive\u001b[39m=\u001b[39;49mrecursive))\n",
      "File \u001b[0;32m/usr/lib/python3.8/glob.py:73\u001b[0m, in \u001b[0;36m_iglob\u001b[0;34m(pathname, recursive, dironly)\u001b[0m\n\u001b[1;32m     71\u001b[0m \u001b[39melse\u001b[39;00m:\n\u001b[1;32m     72\u001b[0m     glob_in_dir \u001b[39m=\u001b[39m _glob0\n\u001b[0;32m---> 73\u001b[0m \u001b[39mfor\u001b[39;00m dirname \u001b[39min\u001b[39;00m dirs:\n\u001b[1;32m     74\u001b[0m     \u001b[39mfor\u001b[39;00m name \u001b[39min\u001b[39;00m glob_in_dir(dirname, basename, dironly):\n\u001b[1;32m     75\u001b[0m         \u001b[39myield\u001b[39;00m os\u001b[39m.\u001b[39mpath\u001b[39m.\u001b[39mjoin(dirname, name)\n",
      "File \u001b[0;32m/usr/lib/python3.8/glob.py:74\u001b[0m, in \u001b[0;36m_iglob\u001b[0;34m(pathname, recursive, dironly)\u001b[0m\n\u001b[1;32m     72\u001b[0m     glob_in_dir \u001b[39m=\u001b[39m _glob0\n\u001b[1;32m     73\u001b[0m \u001b[39mfor\u001b[39;00m dirname \u001b[39min\u001b[39;00m dirs:\n\u001b[0;32m---> 74\u001b[0m     \u001b[39mfor\u001b[39;00m name \u001b[39min\u001b[39;00m glob_in_dir(dirname, basename, dironly):\n\u001b[1;32m     75\u001b[0m         \u001b[39myield\u001b[39;00m os\u001b[39m.\u001b[39mpath\u001b[39m.\u001b[39mjoin(dirname, name)\n",
      "File \u001b[0;32m/usr/lib/python3.8/glob.py:112\u001b[0m, in \u001b[0;36m_glob2\u001b[0;34m(dirname, pattern, dironly)\u001b[0m\n\u001b[1;32m    110\u001b[0m \u001b[39massert\u001b[39;00m _isrecursive(pattern)\n\u001b[1;32m    111\u001b[0m \u001b[39myield\u001b[39;00m pattern[:\u001b[39m0\u001b[39m]\n\u001b[0;32m--> 112\u001b[0m \u001b[39myield from\u001b[39;00m _rlistdir(dirname, dironly)\n",
      "File \u001b[0;32m/usr/lib/python3.8/glob.py:140\u001b[0m, in \u001b[0;36m_rlistdir\u001b[0;34m(dirname, dironly)\u001b[0m\n\u001b[1;32m    138\u001b[0m \u001b[39myield\u001b[39;00m x\n\u001b[1;32m    139\u001b[0m path \u001b[39m=\u001b[39m os\u001b[39m.\u001b[39mpath\u001b[39m.\u001b[39mjoin(dirname, x) \u001b[39mif\u001b[39;00m dirname \u001b[39melse\u001b[39;00m x\n\u001b[0;32m--> 140\u001b[0m \u001b[39mfor\u001b[39;00m y \u001b[39min\u001b[39;00m _rlistdir(path, dironly):\n\u001b[1;32m    141\u001b[0m     \u001b[39myield\u001b[39;00m os\u001b[39m.\u001b[39mpath\u001b[39m.\u001b[39mjoin(x, y)\n",
      "File \u001b[0;32m/usr/lib/python3.8/glob.py:140\u001b[0m, in \u001b[0;36m_rlistdir\u001b[0;34m(dirname, dironly)\u001b[0m\n\u001b[1;32m    138\u001b[0m \u001b[39myield\u001b[39;00m x\n\u001b[1;32m    139\u001b[0m path \u001b[39m=\u001b[39m os\u001b[39m.\u001b[39mpath\u001b[39m.\u001b[39mjoin(dirname, x) \u001b[39mif\u001b[39;00m dirname \u001b[39melse\u001b[39;00m x\n\u001b[0;32m--> 140\u001b[0m \u001b[39mfor\u001b[39;00m y \u001b[39min\u001b[39;00m _rlistdir(path, dironly):\n\u001b[1;32m    141\u001b[0m     \u001b[39myield\u001b[39;00m os\u001b[39m.\u001b[39mpath\u001b[39m.\u001b[39mjoin(x, y)\n",
      "    \u001b[0;31m[... skipping similar frames: _rlistdir at line 140 (1 times)]\u001b[0m\n",
      "File \u001b[0;32m/usr/lib/python3.8/glob.py:140\u001b[0m, in \u001b[0;36m_rlistdir\u001b[0;34m(dirname, dironly)\u001b[0m\n\u001b[1;32m    138\u001b[0m \u001b[39myield\u001b[39;00m x\n\u001b[1;32m    139\u001b[0m path \u001b[39m=\u001b[39m os\u001b[39m.\u001b[39mpath\u001b[39m.\u001b[39mjoin(dirname, x) \u001b[39mif\u001b[39;00m dirname \u001b[39melse\u001b[39;00m x\n\u001b[0;32m--> 140\u001b[0m \u001b[39mfor\u001b[39;00m y \u001b[39min\u001b[39;00m _rlistdir(path, dironly):\n\u001b[1;32m    141\u001b[0m     \u001b[39myield\u001b[39;00m os\u001b[39m.\u001b[39mpath\u001b[39m.\u001b[39mjoin(x, y)\n",
      "File \u001b[0;32m/usr/lib/python3.8/glob.py:135\u001b[0m, in \u001b[0;36m_rlistdir\u001b[0;34m(dirname, dironly)\u001b[0m\n\u001b[1;32m    134\u001b[0m \u001b[39mdef\u001b[39;00m \u001b[39m_rlistdir\u001b[39m(dirname, dironly):\n\u001b[0;32m--> 135\u001b[0m     names \u001b[39m=\u001b[39m \u001b[39mlist\u001b[39;49m(_iterdir(dirname, dironly))\n\u001b[1;32m    136\u001b[0m     \u001b[39mfor\u001b[39;00m x \u001b[39min\u001b[39;00m names:\n\u001b[1;32m    137\u001b[0m         \u001b[39mif\u001b[39;00m \u001b[39mnot\u001b[39;00m _ishidden(x):\n",
      "File \u001b[0;32m/usr/lib/python3.8/glob.py:124\u001b[0m, in \u001b[0;36m_iterdir\u001b[0;34m(dirname, dironly)\u001b[0m\n\u001b[1;32m    122\u001b[0m \u001b[39mtry\u001b[39;00m:\n\u001b[1;32m    123\u001b[0m     \u001b[39mwith\u001b[39;00m os\u001b[39m.\u001b[39mscandir(dirname) \u001b[39mas\u001b[39;00m it:\n\u001b[0;32m--> 124\u001b[0m         \u001b[39mfor\u001b[39;00m entry \u001b[39min\u001b[39;00m it:\n\u001b[1;32m    125\u001b[0m             \u001b[39mtry\u001b[39;00m:\n\u001b[1;32m    126\u001b[0m                 \u001b[39mif\u001b[39;00m \u001b[39mnot\u001b[39;00m dironly \u001b[39mor\u001b[39;00m entry\u001b[39m.\u001b[39mis_dir():\n",
      "\u001b[0;31mKeyboardInterrupt\u001b[0m: "
     ]
    }
   ],
   "source": [
    "from tqdm import tqdm\n",
    "XML_DIR = '/scr/em7/LDC2008T19'\n",
    "file_info = []\n",
    "for xml_file in tqdm(glob.glob(f'{XML_DIR}/**/*.xml', recursive=True)):\n",
    "    file_info.append(parse_xml(xml_file))\n",
    "corpus_df = pd.DataFrame(file_info)\n",
    "corpus_df.to_pickle('NYT_aggregated_info.pkl')"
   ]
  }
 ],
 "metadata": {
  "kernelspec": {
   "display_name": "lu456_venv",
   "language": "python",
   "name": "python3"
  },
  "language_info": {
   "codemirror_mode": {
    "name": "ipython",
    "version": 3
   },
   "file_extension": ".py",
   "mimetype": "text/x-python",
   "name": "python",
   "nbconvert_exporter": "python",
   "pygments_lexer": "ipython3",
   "version": "3.8.10"
  },
  "orig_nbformat": 4,
  "vscode": {
   "interpreter": {
    "hash": "87393be873ca135c51aba14a87a04be6156862d5d568e542c4328788fd9e1558"
   }
  }
 },
 "nbformat": 4,
 "nbformat_minor": 2
}
