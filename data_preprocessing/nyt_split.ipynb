{
 "cells": [
  {
   "cell_type": "code",
   "execution_count": 3,
   "metadata": {},
   "outputs": [],
   "source": [
    "import pandas as pd\n",
    "import glob\n",
    "import xml.etree.ElementTree as ET\n",
    "import pickle\n",
    "import os\n",
    "import numpy as np\n",
    "from tqdm import tqdm\n"
   ]
  },
  {
   "cell_type": "code",
   "execution_count": 4,
   "metadata": {},
   "outputs": [],
   "source": [
    "with open('/iris/u/nathu/temporal-LMs/learned_updating/data/NYT_aggregated_info.pkl', 'rb') as f:\n",
    "    NYT_aggregated_info = pickle.load(f)"
   ]
  },
  {
   "cell_type": "code",
   "execution_count": 5,
   "metadata": {},
   "outputs": [],
   "source": [
    "#drop rows with no text\n",
    "\n",
    "#make sure we were able to correctly parse the date\n",
    "NYT_aggregated_info['year'] = NYT_aggregated_info['date'].apply(lambda x: None if x.split('-')[0] == 'None' else int(x.split('-')[0]))\n",
    "NYT_aggregated_info = NYT_aggregated_info.dropna(subset=['year', 'text', 'title'])\n",
    "NYT_aggregated_info = NYT_aggregated_info[NYT_aggregated_info['year'] <= 2008]\n",
    "NYT_aggregated_info['date'] = pd.to_datetime(NYT_aggregated_info['date'])\n",
    "NYT_aggregated_info.sort_values(by=['date'], inplace=True)\n",
    "NYT_aggregated_info['merged_text'] = NYT_aggregated_info['text'].apply(lambda x:  '\\n'.join(x))"
   ]
  },
  {
   "cell_type": "code",
   "execution_count": 6,
   "metadata": {},
   "outputs": [
    {
     "name": "stdout",
     "output_type": "stream",
     "text": [
      "1829595\n",
      "filtered paid_notices 1698297\n",
      "filtered earnings reports 1595048\n",
      "filtered \"to the editor:\" 1481145\n",
      "filtered for 500+ char 1365292\n"
     ]
    }
   ],
   "source": [
    "print(len(NYT_aggregated_info))\n",
    "#filter out paid notices/obituatries\n",
    "NYT_aggregated_info = NYT_aggregated_info[~NYT_aggregated_info['title'].apply(lambda x: x[:12] == 'Paid Notice:')]\n",
    "print('filtered paid_notices', len(NYT_aggregated_info))\n",
    "#earnings reports\n",
    "NYT_aggregated_info = NYT_aggregated_info[~NYT_aggregated_info.apply(lambda x: '*** COMPANY REPORTS **' in x['merged_text'], axis = 1)]\n",
    "print('filtered earnings reports', len(NYT_aggregated_info))\n",
    "NYT_aggregated_info = NYT_aggregated_info[~NYT_aggregated_info.apply(lambda x: 'To the Editor:' in x['merged_text'], axis = 1)]\n",
    "print('filtered \"to the editor:\"', len(NYT_aggregated_info))\n",
    "NYT_aggregated_info = NYT_aggregated_info[NYT_aggregated_info.apply(lambda x: len(x['merged_text']) > 500, axis = 1)]\n",
    "print('filtered for 500+ char', len(NYT_aggregated_info))"
   ]
  },
  {
   "cell_type": "code",
   "execution_count": 7,
   "metadata": {},
   "outputs": [
    {
     "name": "stdout",
     "output_type": "stream",
     "text": [
      "qa_pretrain_split 141595\n",
      "qa_pretrain_val_split 20479\n",
      "meta_train_split 283947\n",
      "eval_split 114896\n"
     ]
    }
   ],
   "source": [
    "qa_pretrain_split = NYT_aggregated_info[NYT_aggregated_info['date'] <= pd.to_datetime('1988-09-30')]\n",
    "qa_pretrain_val_split = NYT_aggregated_info[(NYT_aggregated_info['date'] >= pd.to_datetime('1988-10-01'))\n",
    "                                            &(NYT_aggregated_info['date'] <= pd.to_datetime('1988-12-31'))]\n",
    "meta_train_split = NYT_aggregated_info[(NYT_aggregated_info['date'] > pd.to_datetime('1989-01-01')) \n",
    "                                       & (NYT_aggregated_info['date'] <= pd.to_datetime('1992-12-31'))]\n",
    "eval_split = NYT_aggregated_info[(NYT_aggregated_info['date'] > pd.to_datetime('1993-01-01')) \n",
    "                                 & (NYT_aggregated_info['date'] <= pd.to_datetime('1994-12-31'))]\n",
    "print('qa_pretrain_split', len(qa_pretrain_split))\n",
    "print('qa_pretrain_val_split', len(qa_pretrain_val_split))\n",
    "print('meta_train_split', len(meta_train_split))\n",
    "print('eval_split', len(eval_split))\n",
    "\n",
    "\n"
   ]
  },
  {
   "cell_type": "code",
   "execution_count": 8,
   "metadata": {},
   "outputs": [],
   "source": [
    "qa_pretrain_split.to_json('../data/nyt/qa_pretrain_split.json')\n",
    "qa_pretrain_val_split.to_json('../data/nyt/qa_pretrain_val_split.json')\n",
    "meta_train_split.to_json('../data/nyt/meta_train_split.json')\n",
    "eval_split.to_json('../data/nyt/eval_split.json')"
   ]
  },
  {
   "cell_type": "code",
   "execution_count": null,
   "metadata": {},
   "outputs": [],
   "source": []
  }
 ],
 "metadata": {
  "kernelspec": {
   "display_name": "venv",
   "language": "python",
   "name": "python3"
  },
  "language_info": {
   "codemirror_mode": {
    "name": "ipython",
    "version": 3
   },
   "file_extension": ".py",
   "mimetype": "text/x-python",
   "name": "python",
   "nbconvert_exporter": "python",
   "pygments_lexer": "ipython3",
   "version": "3.8.10"
  },
  "orig_nbformat": 4
 },
 "nbformat": 4,
 "nbformat_minor": 2
}
