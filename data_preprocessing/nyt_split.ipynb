{
 "cells": [
  {
   "cell_type": "code",
   "execution_count": 3,
   "metadata": {},
   "outputs": [
    {
     "name": "stderr",
     "output_type": "stream",
     "text": [
      "/iris/u/nathu/un_camels/venv/lib/python3.8/site-packages/tqdm/auto.py:21: TqdmWarning: IProgress not found. Please update jupyter and ipywidgets. See https://ipywidgets.readthedocs.io/en/stable/user_install.html\n",
      "  from .autonotebook import tqdm as notebook_tqdm\n"
     ]
    }
   ],
   "source": [
    "import sys\n",
    "sys.path.append('../')\n",
    "import util"
   ]
  },
  {
   "cell_type": "code",
   "execution_count": 1,
   "metadata": {},
   "outputs": [],
   "source": [
    "import pandas as pd\n",
    "import glob\n",
    "import xml.etree.ElementTree as ET\n",
    "import pickle\n",
    "import os\n",
    "import numpy as np\n",
    "from tqdm import tqdm\n"
   ]
  },
  {
   "cell_type": "code",
   "execution_count": 2,
   "metadata": {},
   "outputs": [],
   "source": [
    "with open('/iris/u/nathu/temporal-LMs/learned_updating/data/NYT_aggregated_info.pkl', 'rb') as f:\n",
    "    NYT_aggregated_info = pickle.load(f)"
   ]
  },
  {
   "cell_type": "code",
   "execution_count": 3,
   "metadata": {},
   "outputs": [],
   "source": [
    "#drop rows with no text\n",
    "\n",
    "#make sure we were able to correctly parse the date\n",
    "NYT_aggregated_info['year'] = NYT_aggregated_info['date'].apply(lambda x: None if x.split('-')[0] == 'None' else int(x.split('-')[0]))\n",
    "NYT_aggregated_info = NYT_aggregated_info.dropna(subset=['year', 'text', 'title'])\n",
    "NYT_aggregated_info = NYT_aggregated_info[NYT_aggregated_info['year'] <= 2008]\n",
    "NYT_aggregated_info['date'] = pd.to_datetime(NYT_aggregated_info['date'])\n",
    "NYT_aggregated_info.sort_values(by=['date'], inplace=True)"
   ]
  },
  {
   "cell_type": "code",
   "execution_count": 4,
   "metadata": {},
   "outputs": [],
   "source": [
    "def gen_merged_text(text):\n",
    "    if text[0][:5] == 'LEAD:':\n",
    "        return '\\n'.join(text[1:])\n",
    "    else:\n",
    "        return '\\n'.join(text)"
   ]
  },
  {
   "cell_type": "code",
   "execution_count": 5,
   "metadata": {},
   "outputs": [],
   "source": [
    "NYT_aggregated_info['merged_text'] = NYT_aggregated_info['text'].apply(gen_merged_text)"
   ]
  },
  {
   "cell_type": "code",
   "execution_count": 7,
   "metadata": {},
   "outputs": [
    {
     "name": "stdout",
     "output_type": "stream",
     "text": [
      "1829595\n",
      "filtered paid_notices 1698297\n",
      "filtered earnings reports 1595048\n",
      "filtered \"to the editor:\" 1481243\n",
      "filtered for 500+ char 1345750\n",
      "filtered for 150+ char avg para len 1286682\n",
      "filtered for <=50 para articles 1272095\n"
     ]
    }
   ],
   "source": [
    "NYT_aggregated_info['avg_para_len'] = NYT_aggregated_info.apply(lambda x: np.mean([len(para) for para in x['text']]), axis = 1)\n",
    "NYT_aggregated_info['len(para)'] = NYT_aggregated_info['text'].apply(lambda x: len(x))\n",
    "\n",
    "print(len(NYT_aggregated_info))\n",
    "#filter out paid notices/obituatries\n",
    "NYT_aggregated_info = NYT_aggregated_info[~NYT_aggregated_info['title'].apply(lambda x: x[:12] == 'Paid Notice:')]\n",
    "print('filtered paid_notices', len(NYT_aggregated_info))\n",
    "#earnings reports\n",
    "NYT_aggregated_info = NYT_aggregated_info[~NYT_aggregated_info.apply(lambda x: '*** COMPANY REPORTS **' in x['merged_text'], axis = 1)]\n",
    "print('filtered earnings reports', len(NYT_aggregated_info))\n",
    "NYT_aggregated_info = NYT_aggregated_info[~NYT_aggregated_info.apply(lambda x: 'To the Editor:' in x['merged_text'], axis = 1)]\n",
    "print('filtered \"to the editor:\"', len(NYT_aggregated_info))\n",
    "NYT_aggregated_info = NYT_aggregated_info[NYT_aggregated_info.apply(lambda x: len(x['merged_text']) > 500, axis = 1)]\n",
    "print('filtered for 500+ char', len(NYT_aggregated_info))\n",
    "text_para_lens = NYT_aggregated_info['text'].apply(lambda x: len(x))\n",
    "\n",
    "NYT_aggregated_info = NYT_aggregated_info[NYT_aggregated_info['avg_para_len'] > 150]\n",
    "print('filtered for 150+ char avg para len', len(NYT_aggregated_info))\n",
    "\n",
    "NYT_aggregated_info = NYT_aggregated_info[NYT_aggregated_info['len(para)'] <= 50]\n",
    "print('filtered for <=50 para articles', len(NYT_aggregated_info))"
   ]
  },
  {
   "cell_type": "code",
   "execution_count": 22,
   "metadata": {},
   "outputs": [],
   "source": [
    "NYT_aggregated_info['text'] = NYT_aggregated_info['merged_text']\n",
    "NYT_aggregated_info = NYT_aggregated_info.drop(columns=['merged_text', 'avg_para_len', 'len(para)', 'year'])"
   ]
  },
  {
   "cell_type": "code",
   "execution_count": 23,
   "metadata": {},
   "outputs": [
    {
     "name": "stdout",
     "output_type": "stream",
     "text": [
      "qa_pretrain_split 124836\n",
      "qa_pretrain_val_split 18256\n",
      "meta_train_split 260324\n",
      "eval_split 110276\n",
      "unused_split 757990\n"
     ]
    }
   ],
   "source": [
    "qa_pretrain_split = NYT_aggregated_info[NYT_aggregated_info['date'] <= pd.to_datetime('1988-09-30')]\n",
    "qa_pretrain_val_split = NYT_aggregated_info[(NYT_aggregated_info['date'] >= pd.to_datetime('1988-10-01'))\n",
    "                                            &(NYT_aggregated_info['date'] <= pd.to_datetime('1988-12-31'))]\n",
    "meta_train_split = NYT_aggregated_info[(NYT_aggregated_info['date'] > pd.to_datetime('1989-01-01')) \n",
    "                                       & (NYT_aggregated_info['date'] <= pd.to_datetime('1992-12-31'))]\n",
    "eval_split = NYT_aggregated_info[(NYT_aggregated_info['date'] > pd.to_datetime('1993-01-01')) \n",
    "                                 & (NYT_aggregated_info['date'] <= pd.to_datetime('1994-12-31'))]\n",
    "unused_split = NYT_aggregated_info[(NYT_aggregated_info['date'] >= pd.to_datetime('1995-01-01'))]\n",
    "                                   \n",
    "print('qa_pretrain_split', len(qa_pretrain_split))\n",
    "print('qa_pretrain_val_split', len(qa_pretrain_val_split))\n",
    "print('meta_train_split', len(meta_train_split))\n",
    "print('eval_split', len(eval_split))\n",
    "print('unused_split', len(unused_split))\n",
    "\n",
    "\n"
   ]
  },
  {
   "cell_type": "code",
   "execution_count": 32,
   "metadata": {},
   "outputs": [],
   "source": [
    "qa_pretrain_split.to_csv('../data/nyt/qa_pretrain_split.csv')\n",
    "qa_pretrain_val_split.to_csv('../data/nyt/qa_pretrain_val_split.csv')\n",
    "meta_train_split.to_csv('../data/nyt/meta_train_split.csv')\n",
    "eval_split.to_csv('../data/nyt/eval_split.csv')\n",
    "unused_split.to_csv('../data/nyt/unused_split.csv')"
   ]
  },
  {
   "cell_type": "code",
   "execution_count": 33,
   "metadata": {},
   "outputs": [
    {
     "data": {
      "text/html": [
       "<div>\n",
       "<style scoped>\n",
       "    .dataframe tbody tr th:only-of-type {\n",
       "        vertical-align: middle;\n",
       "    }\n",
       "\n",
       "    .dataframe tbody tr th {\n",
       "        vertical-align: top;\n",
       "    }\n",
       "\n",
       "    .dataframe thead th {\n",
       "        text-align: right;\n",
       "    }\n",
       "</style>\n",
       "<table border=\"1\" class=\"dataframe\">\n",
       "  <thead>\n",
       "    <tr style=\"text-align: right;\">\n",
       "      <th></th>\n",
       "      <th>title</th>\n",
       "      <th>date</th>\n",
       "      <th>text</th>\n",
       "      <th>doc_id</th>\n",
       "    </tr>\n",
       "  </thead>\n",
       "  <tbody>\n",
       "    <tr>\n",
       "      <th>834040</th>\n",
       "      <td>Reviews/Television; How Washington Works, as S...</td>\n",
       "      <td>1989-01-02</td>\n",
       "      <td>Like Hedrick Smith's knowing book from which i...</td>\n",
       "      <td>211071</td>\n",
       "    </tr>\n",
       "    <tr>\n",
       "      <th>834044</th>\n",
       "      <td>The Video News Release: Let the Viewer Beware</td>\n",
       "      <td>1989-01-02</td>\n",
       "      <td>WHEN the ''CBS Evening News With Dan Rather'' ...</td>\n",
       "      <td>211197</td>\n",
       "    </tr>\n",
       "    <tr>\n",
       "      <th>834043</th>\n",
       "      <td>Israel Expels 13 Palestinians Accused of Aidin...</td>\n",
       "      <td>1989-01-02</td>\n",
       "      <td>Thirteen Palestinians accused of leading the u...</td>\n",
       "      <td>211142</td>\n",
       "    </tr>\n",
       "    <tr>\n",
       "      <th>834042</th>\n",
       "      <td>Two Old Rivals Meet in Pasadena</td>\n",
       "      <td>1989-01-02</td>\n",
       "      <td>Bo Schembechler has mellowed so much that he i...</td>\n",
       "      <td>211114</td>\n",
       "    </tr>\n",
       "    <tr>\n",
       "      <th>834041</th>\n",
       "      <td>Brown Wants to Lead Party He Once Spurned</td>\n",
       "      <td>1989-01-02</td>\n",
       "      <td>Once hailed by some as the most inspired polit...</td>\n",
       "      <td>211120</td>\n",
       "    </tr>\n",
       "    <tr>\n",
       "      <th>...</th>\n",
       "      <td>...</td>\n",
       "      <td>...</td>\n",
       "      <td>...</td>\n",
       "      <td>...</td>\n",
       "    </tr>\n",
       "    <tr>\n",
       "      <th>1056879</th>\n",
       "      <td>THE MEDIA BUSINESS: Advertising -- Addenda; Th...</td>\n",
       "      <td>1992-12-31</td>\n",
       "      <td>Northwest Airlines said that it had dismissed ...</td>\n",
       "      <td>579960</td>\n",
       "    </tr>\n",
       "    <tr>\n",
       "      <th>1056880</th>\n",
       "      <td>Music Notes</td>\n",
       "      <td>1992-12-31</td>\n",
       "      <td>Ecological Correctness\\nEnvironmentalism has d...</td>\n",
       "      <td>580064</td>\n",
       "    </tr>\n",
       "    <tr>\n",
       "      <th>1056881</th>\n",
       "      <td>Calendar: Workshops, Classes, Tours and a Sale</td>\n",
       "      <td>1992-12-31</td>\n",
       "      <td>Family Workshops\\nWave Hill, Independence Aven...</td>\n",
       "      <td>580056</td>\n",
       "    </tr>\n",
       "    <tr>\n",
       "      <th>1056882</th>\n",
       "      <td>U.N. Drafts Asylum Plan for Haitian Boat People</td>\n",
       "      <td>1992-12-31</td>\n",
       "      <td>The United Nations High Commissioner for Refug...</td>\n",
       "      <td>579983</td>\n",
       "    </tr>\n",
       "    <tr>\n",
       "      <th>1056883</th>\n",
       "      <td>Somalia 1992: Picking Up Pieces as Famine Subs...</td>\n",
       "      <td>1992-12-31</td>\n",
       "      <td>Six months ago, in the gray, sullen mornings o...</td>\n",
       "      <td>579978</td>\n",
       "    </tr>\n",
       "  </tbody>\n",
       "</table>\n",
       "<p>260324 rows × 4 columns</p>\n",
       "</div>"
      ],
      "text/plain": [
       "                                                     title       date  \\\n",
       "834040   Reviews/Television; How Washington Works, as S... 1989-01-02   \n",
       "834044       The Video News Release: Let the Viewer Beware 1989-01-02   \n",
       "834043   Israel Expels 13 Palestinians Accused of Aidin... 1989-01-02   \n",
       "834042                     Two Old Rivals Meet in Pasadena 1989-01-02   \n",
       "834041           Brown Wants to Lead Party He Once Spurned 1989-01-02   \n",
       "...                                                    ...        ...   \n",
       "1056879  THE MEDIA BUSINESS: Advertising -- Addenda; Th... 1992-12-31   \n",
       "1056880                                        Music Notes 1992-12-31   \n",
       "1056881     Calendar: Workshops, Classes, Tours and a Sale 1992-12-31   \n",
       "1056882    U.N. Drafts Asylum Plan for Haitian Boat People 1992-12-31   \n",
       "1056883  Somalia 1992: Picking Up Pieces as Famine Subs... 1992-12-31   \n",
       "\n",
       "                                                      text  doc_id  \n",
       "834040   Like Hedrick Smith's knowing book from which i...  211071  \n",
       "834044   WHEN the ''CBS Evening News With Dan Rather'' ...  211197  \n",
       "834043   Thirteen Palestinians accused of leading the u...  211142  \n",
       "834042   Bo Schembechler has mellowed so much that he i...  211114  \n",
       "834041   Once hailed by some as the most inspired polit...  211120  \n",
       "...                                                    ...     ...  \n",
       "1056879  Northwest Airlines said that it had dismissed ...  579960  \n",
       "1056880  Ecological Correctness\\nEnvironmentalism has d...  580064  \n",
       "1056881  Family Workshops\\nWave Hill, Independence Aven...  580056  \n",
       "1056882  The United Nations High Commissioner for Refug...  579983  \n",
       "1056883  Six months ago, in the gray, sullen mornings o...  579978  \n",
       "\n",
       "[260324 rows x 4 columns]"
      ]
     },
     "execution_count": 33,
     "metadata": {},
     "output_type": "execute_result"
    }
   ],
   "source": [
    "meta_train_split"
   ]
  }
 ],
 "metadata": {
  "kernelspec": {
   "display_name": "venv",
   "language": "python",
   "name": "python3"
  },
  "language_info": {
   "codemirror_mode": {
    "name": "ipython",
    "version": 3
   },
   "file_extension": ".py",
   "mimetype": "text/x-python",
   "name": "python",
   "nbconvert_exporter": "python",
   "pygments_lexer": "ipython3",
   "version": "3.8.10"
  },
  "orig_nbformat": 4
 },
 "nbformat": 4,
 "nbformat_minor": 2
}
