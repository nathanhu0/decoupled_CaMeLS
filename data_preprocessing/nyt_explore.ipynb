{
 "cells": [
  {
   "cell_type": "code",
   "execution_count": 1,
   "metadata": {},
   "outputs": [
    {
     "name": "stderr",
     "output_type": "stream",
     "text": [
      "/iris/u/nathu/un_camels/venv/lib/python3.8/site-packages/tqdm/auto.py:21: TqdmWarning: IProgress not found. Please update jupyter and ipywidgets. See https://ipywidgets.readthedocs.io/en/stable/user_install.html\n",
      "  from .autonotebook import tqdm as notebook_tqdm\n"
     ]
    }
   ],
   "source": [
    "import pandas as pd\n",
    "from transformers import AutoTokenizer"
   ]
  },
  {
   "cell_type": "code",
   "execution_count": 3,
   "metadata": {},
   "outputs": [],
   "source": [
    "df = pd.read_json('/iris/u/nathu/un_camels/data/nyt/qa_pretrain_val_split.json')"
   ]
  },
  {
   "cell_type": "code",
   "execution_count": 7,
   "metadata": {},
   "outputs": [],
   "source": [
    "tokenizer = AutoTokenizer.from_pretrained('gpt2')"
   ]
  },
  {
   "cell_type": "code",
   "execution_count": 6,
   "metadata": {},
   "outputs": [
    {
     "name": "stderr",
     "output_type": "stream",
     "text": [
      "Token indices sequence length is longer than the specified maximum sequence length for this model (1973 > 1024). Running this sequence through the model will result in indexing errors\n"
     ]
    }
   ],
   "source": [
    "df['document_len (paragraphs)'] = df['text'].apply(lambda x: len(x) if isinstance(x, list) else 1)\n",
    "df['document_len (toks)'] = df['merged_text'].apply(lambda x: len(tokenizer.encode(x)))"
   ]
  },
  {
   "cell_type": "code",
   "execution_count": 19,
   "metadata": {},
   "outputs": [
    {
     "data": {
      "text/html": [
       "<div>\n",
       "<style scoped>\n",
       "    .dataframe tbody tr th:only-of-type {\n",
       "        vertical-align: middle;\n",
       "    }\n",
       "\n",
       "    .dataframe tbody tr th {\n",
       "        vertical-align: top;\n",
       "    }\n",
       "\n",
       "    .dataframe thead th {\n",
       "        text-align: right;\n",
       "    }\n",
       "</style>\n",
       "<table border=\"1\" class=\"dataframe\">\n",
       "  <thead>\n",
       "    <tr style=\"text-align: right;\">\n",
       "      <th></th>\n",
       "      <th>document_len (toks)</th>\n",
       "      <th>document_len (paragraphs)</th>\n",
       "    </tr>\n",
       "  </thead>\n",
       "  <tbody>\n",
       "    <tr>\n",
       "      <th>count</th>\n",
       "      <td>20479.000000</td>\n",
       "      <td>20479.000000</td>\n",
       "    </tr>\n",
       "    <tr>\n",
       "      <th>mean</th>\n",
       "      <td>842.836711</td>\n",
       "      <td>15.844524</td>\n",
       "    </tr>\n",
       "    <tr>\n",
       "      <th>std</th>\n",
       "      <td>780.995317</td>\n",
       "      <td>46.014652</td>\n",
       "    </tr>\n",
       "    <tr>\n",
       "      <th>min</th>\n",
       "      <td>90.000000</td>\n",
       "      <td>2.000000</td>\n",
       "    </tr>\n",
       "    <tr>\n",
       "      <th>1%</th>\n",
       "      <td>124.000000</td>\n",
       "      <td>2.000000</td>\n",
       "    </tr>\n",
       "    <tr>\n",
       "      <th>5%</th>\n",
       "      <td>162.000000</td>\n",
       "      <td>2.000000</td>\n",
       "    </tr>\n",
       "    <tr>\n",
       "      <th>10%</th>\n",
       "      <td>197.000000</td>\n",
       "      <td>3.000000</td>\n",
       "    </tr>\n",
       "    <tr>\n",
       "      <th>25%</th>\n",
       "      <td>306.000000</td>\n",
       "      <td>6.000000</td>\n",
       "    </tr>\n",
       "    <tr>\n",
       "      <th>50%</th>\n",
       "      <td>694.000000</td>\n",
       "      <td>12.000000</td>\n",
       "    </tr>\n",
       "    <tr>\n",
       "      <th>75%</th>\n",
       "      <td>1151.000000</td>\n",
       "      <td>19.000000</td>\n",
       "    </tr>\n",
       "    <tr>\n",
       "      <th>90%</th>\n",
       "      <td>1589.000000</td>\n",
       "      <td>27.000000</td>\n",
       "    </tr>\n",
       "    <tr>\n",
       "      <th>95%</th>\n",
       "      <td>1989.000000</td>\n",
       "      <td>34.000000</td>\n",
       "    </tr>\n",
       "    <tr>\n",
       "      <th>99%</th>\n",
       "      <td>3403.980000</td>\n",
       "      <td>75.000000</td>\n",
       "    </tr>\n",
       "    <tr>\n",
       "      <th>max</th>\n",
       "      <td>20157.000000</td>\n",
       "      <td>2664.000000</td>\n",
       "    </tr>\n",
       "  </tbody>\n",
       "</table>\n",
       "</div>"
      ],
      "text/plain": [
       "       document_len (toks)  document_len (paragraphs)\n",
       "count         20479.000000               20479.000000\n",
       "mean            842.836711                  15.844524\n",
       "std             780.995317                  46.014652\n",
       "min              90.000000                   2.000000\n",
       "1%              124.000000                   2.000000\n",
       "5%              162.000000                   2.000000\n",
       "10%             197.000000                   3.000000\n",
       "25%             306.000000                   6.000000\n",
       "50%             694.000000                  12.000000\n",
       "75%            1151.000000                  19.000000\n",
       "90%            1589.000000                  27.000000\n",
       "95%            1989.000000                  34.000000\n",
       "99%            3403.980000                  75.000000\n",
       "max           20157.000000                2664.000000"
      ]
     },
     "execution_count": 19,
     "metadata": {},
     "output_type": "execute_result"
    }
   ],
   "source": [
    "df.describe(percentiles=[.01, .05, .1,  .25, .5, .75, .9, .95, .99])[['document_len (toks)',\t'document_len (paragraphs)']]"
   ]
  },
  {
   "cell_type": "code",
   "execution_count": 26,
   "metadata": {},
   "outputs": [
    {
     "data": {
      "text/html": [
       "<div>\n",
       "<style scoped>\n",
       "    .dataframe tbody tr th:only-of-type {\n",
       "        vertical-align: middle;\n",
       "    }\n",
       "\n",
       "    .dataframe tbody tr th {\n",
       "        vertical-align: top;\n",
       "    }\n",
       "\n",
       "    .dataframe thead th {\n",
       "        text-align: right;\n",
       "    }\n",
       "</style>\n",
       "<table border=\"1\" class=\"dataframe\">\n",
       "  <thead>\n",
       "    <tr style=\"text-align: right;\">\n",
       "      <th></th>\n",
       "      <th>title</th>\n",
       "      <th>date</th>\n",
       "      <th>text</th>\n",
       "      <th>doc_id</th>\n",
       "      <th>year</th>\n",
       "      <th>merged_text</th>\n",
       "      <th>document_len (paragraphs)</th>\n",
       "      <th>document_len (toks)</th>\n",
       "    </tr>\n",
       "  </thead>\n",
       "  <tbody>\n",
       "    <tr>\n",
       "      <th>967121</th>\n",
       "      <td>Transcript of the Debate on TV Between Bentsen...</td>\n",
       "      <td>1988-10-06</td>\n",
       "      <td>[LEAD:  Participants in the Debate  CANDIDATES...</td>\n",
       "      <td>185645</td>\n",
       "      <td>1988</td>\n",
       "      <td>LEAD:  Participants in the Debate  CANDIDATES:...</td>\n",
       "      <td>255</td>\n",
       "      <td>18316</td>\n",
       "    </tr>\n",
       "    <tr>\n",
       "      <th>964799</th>\n",
       "      <td>Highlights of the Season</td>\n",
       "      <td>1988-10-09</td>\n",
       "      <td>[LEAD: The opening of a new Jewish museum in F...</td>\n",
       "      <td>186572</td>\n",
       "      <td>1988</td>\n",
       "      <td>LEAD: The opening of a new Jewish museum in Fr...</td>\n",
       "      <td>96</td>\n",
       "      <td>14451</td>\n",
       "    </tr>\n",
       "    <tr>\n",
       "      <th>960306</th>\n",
       "      <td>Transcript of the Second Debate Between Bush a...</td>\n",
       "      <td>1988-10-14</td>\n",
       "      <td>[LEAD:  PARTICIPANTS IN THE DEBATE  CANDIDATES...</td>\n",
       "      <td>187841</td>\n",
       "      <td>1988</td>\n",
       "      <td>LEAD:  PARTICIPANTS IN THE DEBATE  CANDIDATES:...</td>\n",
       "      <td>340</td>\n",
       "      <td>19802</td>\n",
       "    </tr>\n",
       "    <tr>\n",
       "      <th>962201</th>\n",
       "      <td>Open Positions on Short Sales Are Up 3.2% on B...</td>\n",
       "      <td>1988-10-21</td>\n",
       "      <td>[LEAD: The New York Stock Exchange reported ye...</td>\n",
       "      <td>189858</td>\n",
       "      <td>1988</td>\n",
       "      <td>LEAD: The New York Stock Exchange reported yes...</td>\n",
       "      <td>2426</td>\n",
       "      <td>12120</td>\n",
       "    </tr>\n",
       "    <tr>\n",
       "      <th>963411</th>\n",
       "      <td>Over-the-Counter Short Sales Rose 8.4% in Month</td>\n",
       "      <td>1988-10-26</td>\n",
       "      <td>[LEAD: The National Association of Securities ...</td>\n",
       "      <td>191711</td>\n",
       "      <td>1988</td>\n",
       "      <td>LEAD: The National Association of Securities D...</td>\n",
       "      <td>2477</td>\n",
       "      <td>13141</td>\n",
       "    </tr>\n",
       "    <tr>\n",
       "      <th>978837</th>\n",
       "      <td>Results District by District: Winners in the R...</td>\n",
       "      <td>1988-11-10</td>\n",
       "      <td>[LEAD:  WEST  ALASKA  At-Large - 97 percent  G...</td>\n",
       "      <td>196499</td>\n",
       "      <td>1988</td>\n",
       "      <td>LEAD:  WEST  ALASKA  At-Large - 97 percent  Gr...</td>\n",
       "      <td>2</td>\n",
       "      <td>12341</td>\n",
       "    </tr>\n",
       "    <tr>\n",
       "      <th>982275</th>\n",
       "      <td>WHAT'S NEW: MORE QUAD LIFTS AND CONDOS</td>\n",
       "      <td>1988-11-13</td>\n",
       "      <td>[LEAD:  THE NORTHEAST  MAINE, SADDLEBACK  Rang...</td>\n",
       "      <td>197893</td>\n",
       "      <td>1988</td>\n",
       "      <td>LEAD:  THE NORTHEAST  MAINE\\nSADDLEBACK  Range...</td>\n",
       "      <td>113</td>\n",
       "      <td>13457</td>\n",
       "    </tr>\n",
       "    <tr>\n",
       "      <th>983867</th>\n",
       "      <td>Open Short-Sales Positions Up 3.4% on Big Board</td>\n",
       "      <td>1988-11-22</td>\n",
       "      <td>[LEAD: The New York Stock Exchange yesterday r...</td>\n",
       "      <td>200666</td>\n",
       "      <td>1988</td>\n",
       "      <td>LEAD: The New York Stock Exchange yesterday re...</td>\n",
       "      <td>2474</td>\n",
       "      <td>12250</td>\n",
       "    </tr>\n",
       "    <tr>\n",
       "      <th>981239</th>\n",
       "      <td>Open Positions on Short Sales Up 1% on Nasdaq</td>\n",
       "      <td>1988-11-26</td>\n",
       "      <td>[LEAD: The National Association of Securities ...</td>\n",
       "      <td>201568</td>\n",
       "      <td>1988</td>\n",
       "      <td>LEAD: The National Association of Securities D...</td>\n",
       "      <td>2573</td>\n",
       "      <td>13509</td>\n",
       "    </tr>\n",
       "    <tr>\n",
       "      <th>955164</th>\n",
       "      <td>NOTABLE BOOKS OF THE YEAR</td>\n",
       "      <td>1988-12-04</td>\n",
       "      <td>[LEAD: This list has been selected from books ...</td>\n",
       "      <td>203748</td>\n",
       "      <td>1988</td>\n",
       "      <td>LEAD: This list has been selected from books r...</td>\n",
       "      <td>234</td>\n",
       "      <td>17166</td>\n",
       "    </tr>\n",
       "    <tr>\n",
       "      <th>953126</th>\n",
       "      <td>At Home in the Caribbean</td>\n",
       "      <td>1988-12-11</td>\n",
       "      <td>[LEAD: Prices for groceries on Barbados, Guade...</td>\n",
       "      <td>205741</td>\n",
       "      <td>1988</td>\n",
       "      <td>LEAD: Prices for groceries on Barbados, Guadel...</td>\n",
       "      <td>162</td>\n",
       "      <td>20157</td>\n",
       "    </tr>\n",
       "    <tr>\n",
       "      <th>956334</th>\n",
       "      <td>Uncovered Short Sales Are Up 6.4% on Big Board</td>\n",
       "      <td>1988-12-22</td>\n",
       "      <td>[LEAD: The New York Stock Exchange reported ye...</td>\n",
       "      <td>208559</td>\n",
       "      <td>1988</td>\n",
       "      <td>LEAD: The New York Stock Exchange reported yes...</td>\n",
       "      <td>2664</td>\n",
       "      <td>13283</td>\n",
       "    </tr>\n",
       "    <tr>\n",
       "      <th>956994</th>\n",
       "      <td>WINTER IN THE NATIONAL PARKS</td>\n",
       "      <td>1988-12-25</td>\n",
       "      <td>[LEAD: During the winter, there is a sense tha...</td>\n",
       "      <td>209497</td>\n",
       "      <td>1988</td>\n",
       "      <td>LEAD: During the winter, there is a sense that...</td>\n",
       "      <td>41</td>\n",
       "      <td>10426</td>\n",
       "    </tr>\n",
       "    <tr>\n",
       "      <th>954596</th>\n",
       "      <td>1988: THE YEAR IN SPORTS</td>\n",
       "      <td>1988-12-26</td>\n",
       "      <td>[LEAD: The Winners of Individual and Team Cham...</td>\n",
       "      <td>209707</td>\n",
       "      <td>1988</td>\n",
       "      <td>LEAD: The Winners of Individual and Team Champ...</td>\n",
       "      <td>923</td>\n",
       "      <td>12870</td>\n",
       "    </tr>\n",
       "    <tr>\n",
       "      <th>954631</th>\n",
       "      <td>The Winners of Individual and Team Championships</td>\n",
       "      <td>1988-12-26</td>\n",
       "      <td>[LEAD:, Archery, U.S. Target Champions  Men - ...</td>\n",
       "      <td>209710</td>\n",
       "      <td>1988</td>\n",
       "      <td>LEAD:\\nArchery\\nU.S. Target Champions  Men - J...</td>\n",
       "      <td>166</td>\n",
       "      <td>13288</td>\n",
       "    </tr>\n",
       "  </tbody>\n",
       "</table>\n",
       "</div>"
      ],
      "text/plain": [
       "                                                    title       date  \\\n",
       "967121  Transcript of the Debate on TV Between Bentsen... 1988-10-06   \n",
       "964799                           Highlights of the Season 1988-10-09   \n",
       "960306  Transcript of the Second Debate Between Bush a... 1988-10-14   \n",
       "962201  Open Positions on Short Sales Are Up 3.2% on B... 1988-10-21   \n",
       "963411    Over-the-Counter Short Sales Rose 8.4% in Month 1988-10-26   \n",
       "978837  Results District by District: Winners in the R... 1988-11-10   \n",
       "982275             WHAT'S NEW: MORE QUAD LIFTS AND CONDOS 1988-11-13   \n",
       "983867    Open Short-Sales Positions Up 3.4% on Big Board 1988-11-22   \n",
       "981239      Open Positions on Short Sales Up 1% on Nasdaq 1988-11-26   \n",
       "955164                          NOTABLE BOOKS OF THE YEAR 1988-12-04   \n",
       "953126                           At Home in the Caribbean 1988-12-11   \n",
       "956334     Uncovered Short Sales Are Up 6.4% on Big Board 1988-12-22   \n",
       "956994                       WINTER IN THE NATIONAL PARKS 1988-12-25   \n",
       "954596                           1988: THE YEAR IN SPORTS 1988-12-26   \n",
       "954631   The Winners of Individual and Team Championships 1988-12-26   \n",
       "\n",
       "                                                     text  doc_id  year  \\\n",
       "967121  [LEAD:  Participants in the Debate  CANDIDATES...  185645  1988   \n",
       "964799  [LEAD: The opening of a new Jewish museum in F...  186572  1988   \n",
       "960306  [LEAD:  PARTICIPANTS IN THE DEBATE  CANDIDATES...  187841  1988   \n",
       "962201  [LEAD: The New York Stock Exchange reported ye...  189858  1988   \n",
       "963411  [LEAD: The National Association of Securities ...  191711  1988   \n",
       "978837  [LEAD:  WEST  ALASKA  At-Large - 97 percent  G...  196499  1988   \n",
       "982275  [LEAD:  THE NORTHEAST  MAINE, SADDLEBACK  Rang...  197893  1988   \n",
       "983867  [LEAD: The New York Stock Exchange yesterday r...  200666  1988   \n",
       "981239  [LEAD: The National Association of Securities ...  201568  1988   \n",
       "955164  [LEAD: This list has been selected from books ...  203748  1988   \n",
       "953126  [LEAD: Prices for groceries on Barbados, Guade...  205741  1988   \n",
       "956334  [LEAD: The New York Stock Exchange reported ye...  208559  1988   \n",
       "956994  [LEAD: During the winter, there is a sense tha...  209497  1988   \n",
       "954596  [LEAD: The Winners of Individual and Team Cham...  209707  1988   \n",
       "954631  [LEAD:, Archery, U.S. Target Champions  Men - ...  209710  1988   \n",
       "\n",
       "                                              merged_text  \\\n",
       "967121  LEAD:  Participants in the Debate  CANDIDATES:...   \n",
       "964799  LEAD: The opening of a new Jewish museum in Fr...   \n",
       "960306  LEAD:  PARTICIPANTS IN THE DEBATE  CANDIDATES:...   \n",
       "962201  LEAD: The New York Stock Exchange reported yes...   \n",
       "963411  LEAD: The National Association of Securities D...   \n",
       "978837  LEAD:  WEST  ALASKA  At-Large - 97 percent  Gr...   \n",
       "982275  LEAD:  THE NORTHEAST  MAINE\\nSADDLEBACK  Range...   \n",
       "983867  LEAD: The New York Stock Exchange yesterday re...   \n",
       "981239  LEAD: The National Association of Securities D...   \n",
       "955164  LEAD: This list has been selected from books r...   \n",
       "953126  LEAD: Prices for groceries on Barbados, Guadel...   \n",
       "956334  LEAD: The New York Stock Exchange reported yes...   \n",
       "956994  LEAD: During the winter, there is a sense that...   \n",
       "954596  LEAD: The Winners of Individual and Team Champ...   \n",
       "954631  LEAD:\\nArchery\\nU.S. Target Champions  Men - J...   \n",
       "\n",
       "        document_len (paragraphs)  document_len (toks)  \n",
       "967121                        255                18316  \n",
       "964799                         96                14451  \n",
       "960306                        340                19802  \n",
       "962201                       2426                12120  \n",
       "963411                       2477                13141  \n",
       "978837                          2                12341  \n",
       "982275                        113                13457  \n",
       "983867                       2474                12250  \n",
       "981239                       2573                13509  \n",
       "955164                        234                17166  \n",
       "953126                        162                20157  \n",
       "956334                       2664                13283  \n",
       "956994                         41                10426  \n",
       "954596                        923                12870  \n",
       "954631                        166                13288  "
      ]
     },
     "execution_count": 26,
     "metadata": {},
     "output_type": "execute_result"
    }
   ],
   "source": [
    "df[df['document_len (toks)'] > 10000]"
   ]
  },
  {
   "cell_type": "code",
   "execution_count": 27,
   "metadata": {},
   "outputs": [
    {
     "data": {
      "text/plain": [
       "title                        Review/Cabaret; Campy Female Impersonations by...\n",
       "date                                                       1988-10-01 00:00:00\n",
       "text                         [LEAD: Ranging from the high drama of B. D. Wo...\n",
       "doc_id                                                                  184070\n",
       "year                                                                      1988\n",
       "merged_text                  LEAD: Ranging from the high drama of B. D. Won...\n",
       "document_len (paragraphs)                                                    4\n",
       "document_len (toks)                                                        464\n",
       "Name: 966810, dtype: object"
      ]
     },
     "execution_count": 27,
     "metadata": {},
     "output_type": "execute_result"
    }
   ],
   "source": [
    "df.iloc[0]"
   ]
  },
  {
   "cell_type": "code",
   "execution_count": 29,
   "metadata": {},
   "outputs": [
    {
     "name": "stderr",
     "output_type": "stream",
     "text": [
      "100%|██████████| 20479/20479 [00:40<00:00, 508.97it/s]\n"
     ]
    }
   ],
   "source": [
    "from tqdm import tqdm\n",
    "para_lens = []\n",
    "for text in tqdm(df['text']):\n",
    "    for para in text:\n",
    "        para_lens.append(len(tokenizer.encode(para)))"
   ]
  },
  {
   "cell_type": "code",
   "execution_count": 39,
   "metadata": {},
   "outputs": [
    {
     "data": {
      "text/plain": [
       "Text(0, 0.5, 'Density')"
      ]
     },
     "execution_count": 39,
     "metadata": {},
     "output_type": "execute_result"
    },
    {
     "data": {
      "image/png": "[encoded data removed]",
      "text/plain": [
       "<Figure size 640x480 with 1 Axes>"
      ]
     },
     "metadata": {},
     "output_type": "display_data"
    }
   ],
   "source": [
    "import matplotlib.pyplot as plt\n",
    "import numpy as np\n",
    "plt.hist(para_lens, bins=np.arange(0, 300, 5), density=True)\n",
    "plt.title('Paragraph Lengths (toks)')\n",
    "plt.xlabel('Length (toks)')\n",
    "plt.ylabel('Density')"
   ]
  },
  {
   "cell_type": "code",
   "execution_count": null,
   "metadata": {},
   "outputs": [],
   "source": []
  },
  {
   "attachments": {},
   "cell_type": "markdown",
   "metadata": {},
   "source": [
    "# Examine document matching"
   ]
  },
  {
   "cell_type": "code",
   "execution_count": 2,
   "metadata": {},
   "outputs": [],
   "source": [
    "df = pd.read_csv('/iris/u/nathu/un_camels/data/nyt/meta_train_split_with_matches.csv')"
   ]
  },
  {
   "cell_type": "code",
   "execution_count": 3,
   "metadata": {},
   "outputs": [],
   "source": [
    "df['date'] = pd.to_datetime(df['date'])\n",
    "df['match_date'] = pd.to_datetime(df['match_date'])\n"
   ]
  },
  {
   "cell_type": "code",
   "execution_count": 4,
   "metadata": {},
   "outputs": [],
   "source": [
    "df['text'] = df['merged_text']\n",
    "df.drop(columns=['merged_text'], inplace=True)"
   ]
  },
  {
   "cell_type": "code",
   "execution_count": 5,
   "metadata": {},
   "outputs": [],
   "source": [
    "df = df[df['match_score'] < 0.98]\n",
    "df = df[df['match_title'] != df['title']]\n"
   ]
  },
  {
   "cell_type": "code",
   "execution_count": 22,
   "metadata": {},
   "outputs": [
    {
     "ename": "NameError",
     "evalue": "name 'plt' is not defined",
     "output_type": "error",
     "traceback": [
      "\u001b[0;31m---------------------------------------------------------------------------\u001b[0m",
      "\u001b[0;31mNameError\u001b[0m                                 Traceback (most recent call last)",
      "Cell \u001b[0;32mIn[22], line 2\u001b[0m\n\u001b[1;32m      1\u001b[0m df[\u001b[39m'\u001b[39m\u001b[39mmatch_score\u001b[39m\u001b[39m'\u001b[39m]\u001b[39m.\u001b[39mhist(bins\u001b[39m=\u001b[39m\u001b[39m500\u001b[39m)\n\u001b[0;32m----> 2\u001b[0m plt\u001b[39m.\u001b[39mtitle(\u001b[39m'\u001b[39m\u001b[39mMatch Scores\u001b[39m\u001b[39m'\u001b[39m)\n\u001b[1;32m      3\u001b[0m plt\u001b[39m.\u001b[39mxlabel(\u001b[39m'\u001b[39m\u001b[39mScore\u001b[39m\u001b[39m'\u001b[39m)\n\u001b[1;32m      4\u001b[0m plt\u001b[39m.\u001b[39mylabel(\u001b[39m'\u001b[39m\u001b[39mCount\u001b[39m\u001b[39m'\u001b[39m)\n",
      "\u001b[0;31mNameError\u001b[0m: name 'plt' is not defined"
     ]
    },
    {
     "data": {
      "image/png": "[encoded data removed]",
      "text/plain": [
       "<Figure size 640x480 with 1 Axes>"
      ]
     },
     "metadata": {},
     "output_type": "display_data"
    }
   ],
   "source": [
    "df['match_score'].hist(bins=500)\n",
    "plt.title('Match Scores')\n",
    "plt.xlabel('Score')\n",
    "plt.ylabel('Count')"
   ]
  },
  {
   "cell_type": "code",
   "execution_count": 117,
   "metadata": {},
   "outputs": [
    {
     "data": {
      "text/plain": [
       "Text(0, 0.5, 'Frequence')"
      ]
     },
     "execution_count": 117,
     "metadata": {},
     "output_type": "execute_result"
    },
    {
     "data": {
      "image/png": "[encoded data removed]",
      "text/plain": [
       "<Figure size 640x480 with 1 Axes>"
      ]
     },
     "metadata": {},
     "output_type": "display_data"
    }
   ],
   "source": [
    "time_diffs = (df['match_date'] - df['date']).dt.days\n",
    "plt.hist(time_diffs, cumulative=False, bins=np.linspace(0, 300, 301), density=True)\n",
    "plt.title('Days Between Article and Match')\n",
    "plt.xlabel('Days')\n",
    "plt.ylabel('Frequence')"
   ]
  },
  {
   "cell_type": "code",
   "execution_count": 2,
   "metadata": {},
   "outputs": [
    {
     "ename": "KeyboardInterrupt",
     "evalue": "",
     "output_type": "error",
     "traceback": [
      "\u001b[0;31m---------------------------------------------------------------------------\u001b[0m",
      "\u001b[0;31mKeyboardInterrupt\u001b[0m                         Traceback (most recent call last)",
      "Cell \u001b[0;32mIn[2], line 1\u001b[0m\n\u001b[0;32m----> 1\u001b[0m \u001b[39mimport\u001b[39;00m \u001b[39mtorch\u001b[39;00m\n\u001b[1;32m      2\u001b[0m torch\u001b[39m.\u001b[39mnn\u001b[39m.\u001b[39msoftplus(beta \u001b[39m=\u001b[39m torch\u001b[39m.\u001b[39mlog(\u001b[39m2\u001b[39m))(\u001b[39m0\u001b[39m)\n",
      "File \u001b[0;32m/iris/u/nathu/un_camels/venv/lib/python3.8/site-packages/torch/__init__.py:1465\u001b[0m\n\u001b[1;32m   1463\u001b[0m \u001b[39mfrom\u001b[39;00m \u001b[39m.\u001b[39;00m \u001b[39mimport\u001b[39;00m library\n\u001b[1;32m   1464\u001b[0m \u001b[39mif\u001b[39;00m \u001b[39mnot\u001b[39;00m TYPE_CHECKING:\n\u001b[0;32m-> 1465\u001b[0m     \u001b[39mfrom\u001b[39;00m \u001b[39m.\u001b[39;00m \u001b[39mimport\u001b[39;00m _meta_registrations\n\u001b[1;32m   1467\u001b[0m \u001b[39m# Enable CUDA Sanitizer\u001b[39;00m\n\u001b[1;32m   1468\u001b[0m \u001b[39mif\u001b[39;00m \u001b[39m'\u001b[39m\u001b[39mTORCH_CUDA_SANITIZER\u001b[39m\u001b[39m'\u001b[39m \u001b[39min\u001b[39;00m os\u001b[39m.\u001b[39menviron:\n",
      "File \u001b[0;32m/iris/u/nathu/un_camels/venv/lib/python3.8/site-packages/torch/_meta_registrations.py:7\u001b[0m\n\u001b[1;32m      5\u001b[0m \u001b[39mimport\u001b[39;00m \u001b[39mtorch\u001b[39;00m\u001b[39m.\u001b[39;00m\u001b[39m_prims_common\u001b[39;00m \u001b[39mas\u001b[39;00m \u001b[39mutils\u001b[39;00m\n\u001b[1;32m      6\u001b[0m \u001b[39mfrom\u001b[39;00m \u001b[39mtorch\u001b[39;00m \u001b[39mimport\u001b[39;00m Tensor\n\u001b[0;32m----> 7\u001b[0m \u001b[39mfrom\u001b[39;00m \u001b[39mtorch\u001b[39;00m\u001b[39m.\u001b[39;00m\u001b[39m_decomp\u001b[39;00m \u001b[39mimport\u001b[39;00m _add_op_to_registry, global_decomposition_table, meta_table\n\u001b[1;32m      8\u001b[0m \u001b[39mfrom\u001b[39;00m \u001b[39mtorch\u001b[39;00m\u001b[39m.\u001b[39;00m\u001b[39m_ops\u001b[39;00m \u001b[39mimport\u001b[39;00m OpOverload\n\u001b[1;32m      9\u001b[0m \u001b[39mfrom\u001b[39;00m \u001b[39mtorch\u001b[39;00m\u001b[39m.\u001b[39;00m\u001b[39m_prims\u001b[39;00m \u001b[39mimport\u001b[39;00m _elementwise_meta, ELEMENTWISE_PRIM_TYPE_PROMOTION_KIND\n",
      "File \u001b[0;32m/iris/u/nathu/un_camels/venv/lib/python3.8/site-packages/torch/_decomp/__init__.py:169\u001b[0m\n\u001b[1;32m    165\u001b[0m     \u001b[39mreturn\u001b[39;00m decompositions\n\u001b[1;32m    168\u001b[0m \u001b[39m# populate the table\u001b[39;00m\n\u001b[0;32m--> 169\u001b[0m \u001b[39mimport\u001b[39;00m \u001b[39mtorch\u001b[39;00m\u001b[39m.\u001b[39;00m\u001b[39m_decomp\u001b[39;00m\u001b[39m.\u001b[39;00m\u001b[39mdecompositions\u001b[39;00m\n\u001b[1;32m    170\u001b[0m \u001b[39mimport\u001b[39;00m \u001b[39mtorch\u001b[39;00m\u001b[39m.\u001b[39;00m\u001b[39m_refs\u001b[39;00m\n\u001b[1;32m    172\u001b[0m \u001b[39m# This list was copied from torch/_inductor/decomposition.py\u001b[39;00m\n\u001b[1;32m    173\u001b[0m \u001b[39m# excluding decompositions that results in prim ops\u001b[39;00m\n\u001b[1;32m    174\u001b[0m \u001b[39m# Resulting opset of decomposition is core aten ops\u001b[39;00m\n",
      "File \u001b[0;32m/iris/u/nathu/un_camels/venv/lib/python3.8/site-packages/torch/_decomp/decompositions.py:10\u001b[0m\n\u001b[1;32m      7\u001b[0m \u001b[39mfrom\u001b[39;00m \u001b[39mtyping\u001b[39;00m \u001b[39mimport\u001b[39;00m Callable, cast, Iterable, List, Optional, Tuple, Union\n\u001b[1;32m      9\u001b[0m \u001b[39mimport\u001b[39;00m \u001b[39mtorch\u001b[39;00m\n\u001b[0;32m---> 10\u001b[0m \u001b[39mimport\u001b[39;00m \u001b[39mtorch\u001b[39;00m\u001b[39m.\u001b[39;00m\u001b[39m_prims\u001b[39;00m \u001b[39mas\u001b[39;00m \u001b[39mprims\u001b[39;00m\n\u001b[1;32m     11\u001b[0m \u001b[39mimport\u001b[39;00m \u001b[39mtorch\u001b[39;00m\u001b[39m.\u001b[39;00m\u001b[39m_prims_common\u001b[39;00m \u001b[39mas\u001b[39;00m \u001b[39mutils\u001b[39;00m\n\u001b[1;32m     12\u001b[0m \u001b[39mimport\u001b[39;00m \u001b[39mtorch\u001b[39;00m\u001b[39m.\u001b[39;00m\u001b[39mnn\u001b[39;00m\u001b[39m.\u001b[39;00m\u001b[39mfunctional\u001b[39;00m \u001b[39mas\u001b[39;00m \u001b[39mF\u001b[39;00m\n",
      "File \u001b[0;32m/iris/u/nathu/un_camels/venv/lib/python3.8/site-packages/torch/_prims/__init__.py:33\u001b[0m\n\u001b[1;32m     17\u001b[0m \u001b[39mfrom\u001b[39;00m \u001b[39mtorch\u001b[39;00m\u001b[39m.\u001b[39;00m\u001b[39m_prims_common\u001b[39;00m \u001b[39mimport\u001b[39;00m (\n\u001b[1;32m     18\u001b[0m     check,\n\u001b[1;32m     19\u001b[0m     Dim,\n\u001b[0;32m   (...)\u001b[0m\n\u001b[1;32m     30\u001b[0m     type_to_dtype,\n\u001b[1;32m     31\u001b[0m )\n\u001b[1;32m     32\u001b[0m \u001b[39mfrom\u001b[39;00m \u001b[39mtorch\u001b[39;00m\u001b[39m.\u001b[39;00m\u001b[39m_prims_common\u001b[39;00m\u001b[39m.\u001b[39;00m\u001b[39mwrappers\u001b[39;00m \u001b[39mimport\u001b[39;00m backwards_not_supported\n\u001b[0;32m---> 33\u001b[0m \u001b[39mfrom\u001b[39;00m \u001b[39mtorch\u001b[39;00m\u001b[39m.\u001b[39;00m\u001b[39m_subclasses\u001b[39;00m\u001b[39m.\u001b[39;00m\u001b[39mfake_tensor\u001b[39;00m \u001b[39mimport\u001b[39;00m FakeTensor, FakeTensorMode\n\u001b[1;32m     34\u001b[0m \u001b[39mfrom\u001b[39;00m \u001b[39mtorch\u001b[39;00m\u001b[39m.\u001b[39;00m\u001b[39moverrides\u001b[39;00m \u001b[39mimport\u001b[39;00m handle_torch_function, has_torch_function\n\u001b[1;32m     35\u001b[0m \u001b[39mfrom\u001b[39;00m \u001b[39mtorch\u001b[39;00m\u001b[39m.\u001b[39;00m\u001b[39mutils\u001b[39;00m\u001b[39m.\u001b[39;00m\u001b[39m_pytree\u001b[39;00m \u001b[39mimport\u001b[39;00m tree_flatten, tree_map, tree_unflatten\n",
      "File \u001b[0;32m/iris/u/nathu/un_camels/venv/lib/python3.8/site-packages/torch/_subclasses/__init__.py:3\u001b[0m\n\u001b[1;32m      1\u001b[0m \u001b[39mimport\u001b[39;00m \u001b[39mtorch\u001b[39;00m\n\u001b[0;32m----> 3\u001b[0m \u001b[39mfrom\u001b[39;00m \u001b[39mtorch\u001b[39;00m\u001b[39m.\u001b[39;00m\u001b[39m_subclasses\u001b[39;00m\u001b[39m.\u001b[39;00m\u001b[39mfake_tensor\u001b[39;00m \u001b[39mimport\u001b[39;00m (\n\u001b[1;32m      4\u001b[0m     DynamicOutputShapeException,\n\u001b[1;32m      5\u001b[0m     FakeTensor,\n\u001b[1;32m      6\u001b[0m     FakeTensorMode,\n\u001b[1;32m      7\u001b[0m     UnsupportedFakeTensorException,\n\u001b[1;32m      8\u001b[0m )\n\u001b[1;32m     10\u001b[0m \u001b[39mfrom\u001b[39;00m \u001b[39mtorch\u001b[39;00m\u001b[39m.\u001b[39;00m\u001b[39m_subclasses\u001b[39;00m\u001b[39m.\u001b[39;00m\u001b[39mfake_utils\u001b[39;00m \u001b[39mimport\u001b[39;00m CrossRefFakeMode\n\u001b[1;32m     12\u001b[0m __all__ \u001b[39m=\u001b[39m [\n\u001b[1;32m     13\u001b[0m     \u001b[39m\"\u001b[39m\u001b[39mFakeTensor\u001b[39m\u001b[39m\"\u001b[39m,\n\u001b[1;32m     14\u001b[0m     \u001b[39m\"\u001b[39m\u001b[39mFakeTensorMode\u001b[39m\u001b[39m\"\u001b[39m,\n\u001b[0;32m   (...)\u001b[0m\n\u001b[1;32m     17\u001b[0m     \u001b[39m\"\u001b[39m\u001b[39mCrossRefFakeMode\u001b[39m\u001b[39m\"\u001b[39m,\n\u001b[1;32m     18\u001b[0m ]\n",
      "File \u001b[0;32m/iris/u/nathu/un_camels/venv/lib/python3.8/site-packages/torch/_subclasses/fake_tensor.py:13\u001b[0m\n\u001b[1;32m     10\u001b[0m \u001b[39mfrom\u001b[39;00m \u001b[39mweakref\u001b[39;00m \u001b[39mimport\u001b[39;00m ReferenceType\n\u001b[1;32m     12\u001b[0m \u001b[39mimport\u001b[39;00m \u001b[39mtorch\u001b[39;00m\n\u001b[0;32m---> 13\u001b[0m \u001b[39mfrom\u001b[39;00m \u001b[39mtorch\u001b[39;00m\u001b[39m.\u001b[39;00m\u001b[39m_guards\u001b[39;00m \u001b[39mimport\u001b[39;00m Source\n\u001b[1;32m     14\u001b[0m \u001b[39mfrom\u001b[39;00m \u001b[39mtorch\u001b[39;00m\u001b[39m.\u001b[39;00m\u001b[39m_ops\u001b[39;00m \u001b[39mimport\u001b[39;00m OpOverload\n\u001b[1;32m     15\u001b[0m \u001b[39mfrom\u001b[39;00m \u001b[39mtorch\u001b[39;00m\u001b[39m.\u001b[39;00m\u001b[39m_prims_common\u001b[39;00m \u001b[39mimport\u001b[39;00m (\n\u001b[1;32m     16\u001b[0m     elementwise_dtypes,\n\u001b[1;32m     17\u001b[0m     ELEMENTWISE_TYPE_PROMOTION_KIND,\n\u001b[1;32m     18\u001b[0m     is_float_dtype,\n\u001b[1;32m     19\u001b[0m     is_integer_dtype,\n\u001b[1;32m     20\u001b[0m )\n",
      "File \u001b[0;32m/iris/u/nathu/un_camels/venv/lib/python3.8/site-packages/torch/_guards.py:14\u001b[0m\n\u001b[1;32m     11\u001b[0m \u001b[39m# TODO(voz): Stolen pattern, not sure why this is the case,\u001b[39;00m\n\u001b[1;32m     12\u001b[0m \u001b[39m# but mypy complains.\u001b[39;00m\n\u001b[1;32m     13\u001b[0m \u001b[39mtry\u001b[39;00m:\n\u001b[0;32m---> 14\u001b[0m     \u001b[39mimport\u001b[39;00m \u001b[39msympy\u001b[39;00m  \u001b[39m# type: ignore[import]\u001b[39;00m\n\u001b[1;32m     15\u001b[0m \u001b[39mexcept\u001b[39;00m \u001b[39mImportError\u001b[39;00m:\n\u001b[1;32m     16\u001b[0m     log\u001b[39m.\u001b[39mwarning(\u001b[39m\"\u001b[39m\u001b[39mNo sympy found\u001b[39m\u001b[39m\"\u001b[39m)\n",
      "File \u001b[0;32m/iris/u/nathu/un_camels/venv/lib/python3.8/site-packages/sympy/__init__.py:74\u001b[0m\n\u001b[1;32m     67\u001b[0m \u001b[39mfrom\u001b[39;00m \u001b[39m.\u001b[39;00m\u001b[39mlogic\u001b[39;00m \u001b[39mimport\u001b[39;00m (to_cnf, to_dnf, to_nnf, And, Or, Not, Xor, Nand, Nor,\n\u001b[1;32m     68\u001b[0m         Implies, Equivalent, ITE, POSform, SOPform, simplify_logic, bool_map,\n\u001b[1;32m     69\u001b[0m         true, false, satisfiable)\n\u001b[1;32m     71\u001b[0m \u001b[39mfrom\u001b[39;00m \u001b[39m.\u001b[39;00m\u001b[39massumptions\u001b[39;00m \u001b[39mimport\u001b[39;00m (AppliedPredicate, Predicate, AssumptionsContext,\n\u001b[1;32m     72\u001b[0m         assuming, Q, ask, register_handler, remove_handler, refine)\n\u001b[0;32m---> 74\u001b[0m \u001b[39mfrom\u001b[39;00m \u001b[39m.\u001b[39;00m\u001b[39mpolys\u001b[39;00m \u001b[39mimport\u001b[39;00m (Poly, PurePoly, poly_from_expr, parallel_poly_from_expr,\n\u001b[1;32m     75\u001b[0m         degree, total_degree, degree_list, LC, LM, LT, pdiv, prem, pquo,\n\u001b[1;32m     76\u001b[0m         pexquo, div, rem, quo, exquo, half_gcdex, gcdex, invert,\n\u001b[1;32m     77\u001b[0m         subresultants, resultant, discriminant, cofactors, gcd_list, gcd,\n\u001b[1;32m     78\u001b[0m         lcm_list, lcm, terms_gcd, trunc, monic, content, primitive, compose,\n\u001b[1;32m     79\u001b[0m         decompose, sturm, gff_list, gff, sqf_norm, sqf_part, sqf_list, sqf,\n\u001b[1;32m     80\u001b[0m         factor_list, factor, intervals, refine_root, count_roots, real_roots,\n\u001b[1;32m     81\u001b[0m         nroots, ground_roots, nth_power_roots_poly, cancel, reduced, groebner,\n\u001b[1;32m     82\u001b[0m         is_zero_dimensional, GroebnerBasis, poly, symmetrize, horner,\n\u001b[1;32m     83\u001b[0m         interpolate, rational_interpolate, viete, together,\n\u001b[1;32m     84\u001b[0m         BasePolynomialError, ExactQuotientFailed, PolynomialDivisionFailed,\n\u001b[1;32m     85\u001b[0m         OperationNotSupported, HeuristicGCDFailed, HomomorphismFailed,\n\u001b[1;32m     86\u001b[0m         IsomorphismFailed, ExtraneousFactors, EvaluationFailed,\n\u001b[1;32m     87\u001b[0m         RefinementFailed, CoercionFailed, NotInvertible, NotReversible,\n\u001b[1;32m     88\u001b[0m         NotAlgebraic, DomainError, PolynomialError, UnificationFailed,\n\u001b[1;32m     89\u001b[0m         GeneratorsError, GeneratorsNeeded, ComputationFailed,\n\u001b[1;32m     90\u001b[0m         UnivariatePolynomialError, MultivariatePolynomialError,\n\u001b[1;32m     91\u001b[0m         PolificationFailed, OptionError, FlagError, minpoly,\n\u001b[1;32m     92\u001b[0m         minimal_polynomial, primitive_element, field_isomorphism,\n\u001b[1;32m     93\u001b[0m         to_number_field, isolate, round_two, prime_decomp, prime_valuation,\n\u001b[1;32m     94\u001b[0m         galois_group, itermonomials, Monomial, lex, grlex,\n\u001b[1;32m     95\u001b[0m         grevlex, ilex, igrlex, igrevlex, CRootOf, rootof, RootOf,\n\u001b[1;32m     96\u001b[0m         ComplexRootOf, RootSum, roots, Domain, FiniteField, IntegerRing,\n\u001b[1;32m     97\u001b[0m         RationalField, RealField, ComplexField, PythonFiniteField,\n\u001b[1;32m     98\u001b[0m         GMPYFiniteField, PythonIntegerRing, GMPYIntegerRing, PythonRational,\n\u001b[1;32m     99\u001b[0m         GMPYRationalField, AlgebraicField, PolynomialRing, FractionField,\n\u001b[1;32m    100\u001b[0m         ExpressionDomain, FF_python, FF_gmpy, ZZ_python, ZZ_gmpy, QQ_python,\n\u001b[1;32m    101\u001b[0m         QQ_gmpy, GF, FF, ZZ, QQ, ZZ_I, QQ_I, RR, CC, EX, EXRAW,\n\u001b[1;32m    102\u001b[0m         construct_domain, swinnerton_dyer_poly, cyclotomic_poly,\n\u001b[1;32m    103\u001b[0m         symmetric_poly, random_poly, interpolating_poly, jacobi_poly,\n\u001b[1;32m    104\u001b[0m         chebyshevt_poly, chebyshevu_poly, hermite_poly, hermite_prob_poly,\n\u001b[1;32m    105\u001b[0m         legendre_poly, laguerre_poly, apart, apart_list, assemble_partfrac_list,\n\u001b[1;32m    106\u001b[0m         Options, ring, xring, vring, sring, field, xfield, vfield, sfield)\n\u001b[1;32m    108\u001b[0m \u001b[39mfrom\u001b[39;00m \u001b[39m.\u001b[39;00m\u001b[39mseries\u001b[39;00m \u001b[39mimport\u001b[39;00m (Order, O, limit, Limit, gruntz, series, approximants,\n\u001b[1;32m    109\u001b[0m         residue, EmptySequence, SeqPer, SeqFormula, sequence, SeqAdd, SeqMul,\n\u001b[1;32m    110\u001b[0m         fourier_series, fps, difference_delta, limit_seq)\n\u001b[1;32m    112\u001b[0m \u001b[39mfrom\u001b[39;00m \u001b[39m.\u001b[39;00m\u001b[39mfunctions\u001b[39;00m \u001b[39mimport\u001b[39;00m (factorial, factorial2, rf, ff, binomial,\n\u001b[1;32m    113\u001b[0m         RisingFactorial, FallingFactorial, subfactorial, carmichael,\n\u001b[1;32m    114\u001b[0m         fibonacci, lucas, motzkin, tribonacci, harmonic, bernoulli, bell, euler,\n\u001b[0;32m   (...)\u001b[0m\n\u001b[1;32m    133\u001b[0m         Znm, elliptic_k, elliptic_f, elliptic_e, elliptic_pi, beta, mathieus,\n\u001b[1;32m    134\u001b[0m         mathieuc, mathieusprime, mathieucprime, riemann_xi, betainc, betainc_regularized)\n",
      "File \u001b[0;32m/iris/u/nathu/un_camels/venv/lib/python3.8/site-packages/sympy/polys/__init__.py:78\u001b[0m\n\u001b[1;32m      3\u001b[0m __all__ \u001b[39m=\u001b[39m [\n\u001b[1;32m      4\u001b[0m     \u001b[39m'\u001b[39m\u001b[39mPoly\u001b[39m\u001b[39m'\u001b[39m, \u001b[39m'\u001b[39m\u001b[39mPurePoly\u001b[39m\u001b[39m'\u001b[39m, \u001b[39m'\u001b[39m\u001b[39mpoly_from_expr\u001b[39m\u001b[39m'\u001b[39m, \u001b[39m'\u001b[39m\u001b[39mparallel_poly_from_expr\u001b[39m\u001b[39m'\u001b[39m, \u001b[39m'\u001b[39m\u001b[39mdegree\u001b[39m\u001b[39m'\u001b[39m,\n\u001b[1;32m      5\u001b[0m     \u001b[39m'\u001b[39m\u001b[39mtotal_degree\u001b[39m\u001b[39m'\u001b[39m, \u001b[39m'\u001b[39m\u001b[39mdegree_list\u001b[39m\u001b[39m'\u001b[39m, \u001b[39m'\u001b[39m\u001b[39mLC\u001b[39m\u001b[39m'\u001b[39m, \u001b[39m'\u001b[39m\u001b[39mLM\u001b[39m\u001b[39m'\u001b[39m, \u001b[39m'\u001b[39m\u001b[39mLT\u001b[39m\u001b[39m'\u001b[39m, \u001b[39m'\u001b[39m\u001b[39mpdiv\u001b[39m\u001b[39m'\u001b[39m, \u001b[39m'\u001b[39m\u001b[39mprem\u001b[39m\u001b[39m'\u001b[39m, \u001b[39m'\u001b[39m\u001b[39mpquo\u001b[39m\u001b[39m'\u001b[39m,\n\u001b[0;32m   (...)\u001b[0m\n\u001b[1;32m     65\u001b[0m     \u001b[39m'\u001b[39m\u001b[39mfield\u001b[39m\u001b[39m'\u001b[39m, \u001b[39m'\u001b[39m\u001b[39mxfield\u001b[39m\u001b[39m'\u001b[39m, \u001b[39m'\u001b[39m\u001b[39mvfield\u001b[39m\u001b[39m'\u001b[39m, \u001b[39m'\u001b[39m\u001b[39msfield\u001b[39m\u001b[39m'\u001b[39m\n\u001b[1;32m     66\u001b[0m ]\n\u001b[1;32m     68\u001b[0m \u001b[39mfrom\u001b[39;00m \u001b[39m.\u001b[39;00m\u001b[39mpolytools\u001b[39;00m \u001b[39mimport\u001b[39;00m (Poly, PurePoly, poly_from_expr,\n\u001b[1;32m     69\u001b[0m         parallel_poly_from_expr, degree, total_degree, degree_list, LC, LM,\n\u001b[1;32m     70\u001b[0m         LT, pdiv, prem, pquo, pexquo, div, rem, quo, exquo, half_gcdex, gcdex,\n\u001b[0;32m   (...)\u001b[0m\n\u001b[1;32m     75\u001b[0m         count_roots, real_roots, nroots, ground_roots, nth_power_roots_poly,\n\u001b[1;32m     76\u001b[0m         cancel, reduced, groebner, is_zero_dimensional, GroebnerBasis, poly)\n\u001b[0;32m---> 78\u001b[0m \u001b[39mfrom\u001b[39;00m \u001b[39m.\u001b[39;00m\u001b[39mpolyfuncs\u001b[39;00m \u001b[39mimport\u001b[39;00m (symmetrize, horner, interpolate,\n\u001b[1;32m     79\u001b[0m         rational_interpolate, viete)\n\u001b[1;32m     81\u001b[0m \u001b[39mfrom\u001b[39;00m \u001b[39m.\u001b[39;00m\u001b[39mrationaltools\u001b[39;00m \u001b[39mimport\u001b[39;00m together\n\u001b[1;32m     83\u001b[0m \u001b[39mfrom\u001b[39;00m \u001b[39m.\u001b[39;00m\u001b[39mpolyerrors\u001b[39;00m \u001b[39mimport\u001b[39;00m (BasePolynomialError, ExactQuotientFailed,\n\u001b[1;32m     84\u001b[0m         PolynomialDivisionFailed, OperationNotSupported, HeuristicGCDFailed,\n\u001b[1;32m     85\u001b[0m         HomomorphismFailed, IsomorphismFailed, ExtraneousFactors,\n\u001b[0;32m   (...)\u001b[0m\n\u001b[1;32m     90\u001b[0m         MultivariatePolynomialError, PolificationFailed, OptionError,\n\u001b[1;32m     91\u001b[0m         FlagError)\n",
      "File \u001b[0;32m/iris/u/nathu/un_camels/venv/lib/python3.8/site-packages/sympy/polys/polyfuncs.py:10\u001b[0m\n\u001b[1;32m      8\u001b[0m \u001b[39mfrom\u001b[39;00m \u001b[39msympy\u001b[39;00m\u001b[39m.\u001b[39;00m\u001b[39mpolys\u001b[39;00m\u001b[39m.\u001b[39;00m\u001b[39mpolyoptions\u001b[39;00m \u001b[39mimport\u001b[39;00m allowed_flags, build_options\n\u001b[1;32m      9\u001b[0m \u001b[39mfrom\u001b[39;00m \u001b[39msympy\u001b[39;00m\u001b[39m.\u001b[39;00m\u001b[39mpolys\u001b[39;00m\u001b[39m.\u001b[39;00m\u001b[39mpolytools\u001b[39;00m \u001b[39mimport\u001b[39;00m poly_from_expr, Poly\n\u001b[0;32m---> 10\u001b[0m \u001b[39mfrom\u001b[39;00m \u001b[39msympy\u001b[39;00m\u001b[39m.\u001b[39;00m\u001b[39mpolys\u001b[39;00m\u001b[39m.\u001b[39;00m\u001b[39mspecialpolys\u001b[39;00m \u001b[39mimport\u001b[39;00m (\n\u001b[1;32m     11\u001b[0m     symmetric_poly, interpolating_poly)\n\u001b[1;32m     12\u001b[0m \u001b[39mfrom\u001b[39;00m \u001b[39msympy\u001b[39;00m\u001b[39m.\u001b[39;00m\u001b[39mpolys\u001b[39;00m\u001b[39m.\u001b[39;00m\u001b[39mrings\u001b[39;00m \u001b[39mimport\u001b[39;00m sring\n\u001b[1;32m     13\u001b[0m \u001b[39mfrom\u001b[39;00m \u001b[39msympy\u001b[39;00m\u001b[39m.\u001b[39;00m\u001b[39mutilities\u001b[39;00m \u001b[39mimport\u001b[39;00m numbered_symbols, take, public\n",
      "File \u001b[0;32m/iris/u/nathu/un_camels/venv/lib/python3.8/site-packages/sympy/polys/specialpolys.py:298\u001b[0m\n\u001b[1;32m    294\u001b[0m     \u001b[39mreturn\u001b[39;00m dmp_mul(f, h, n, K), dmp_mul(g, h, n, K), h\n\u001b[1;32m    296\u001b[0m \u001b[39m# A few useful polynomials from Wang's paper ('78).\u001b[39;00m\n\u001b[0;32m--> 298\u001b[0m \u001b[39mfrom\u001b[39;00m \u001b[39msympy\u001b[39;00m\u001b[39m.\u001b[39;00m\u001b[39mpolys\u001b[39;00m\u001b[39m.\u001b[39;00m\u001b[39mrings\u001b[39;00m \u001b[39mimport\u001b[39;00m ring\n\u001b[1;32m    300\u001b[0m \u001b[39mdef\u001b[39;00m \u001b[39m_f_0\u001b[39m():\n\u001b[1;32m    301\u001b[0m     R, x, y, z \u001b[39m=\u001b[39m ring(\u001b[39m\"\u001b[39m\u001b[39mx,y,z\u001b[39m\u001b[39m\"\u001b[39m, ZZ)\n",
      "File \u001b[0;32m/iris/u/nathu/un_camels/venv/lib/python3.8/site-packages/sympy/polys/rings.py:30\u001b[0m\n\u001b[1;32m     26\u001b[0m \u001b[39mfrom\u001b[39;00m \u001b[39msympy\u001b[39;00m\u001b[39m.\u001b[39;00m\u001b[39mpolys\u001b[39;00m\u001b[39m.\u001b[39;00m\u001b[39mpolyoptions\u001b[39;00m \u001b[39mimport\u001b[39;00m (Domain \u001b[39mas\u001b[39;00m DomainOpt,\n\u001b[1;32m     27\u001b[0m                                      Order \u001b[39mas\u001b[39;00m OrderOpt, build_options)\n\u001b[1;32m     28\u001b[0m \u001b[39mfrom\u001b[39;00m \u001b[39msympy\u001b[39;00m\u001b[39m.\u001b[39;00m\u001b[39mpolys\u001b[39;00m\u001b[39m.\u001b[39;00m\u001b[39mpolyutils\u001b[39;00m \u001b[39mimport\u001b[39;00m (expr_from_dict, _dict_reorder,\n\u001b[1;32m     29\u001b[0m                                    _parallel_dict_from_expr)\n\u001b[0;32m---> 30\u001b[0m \u001b[39mfrom\u001b[39;00m \u001b[39msympy\u001b[39;00m\u001b[39m.\u001b[39;00m\u001b[39mprinting\u001b[39;00m\u001b[39m.\u001b[39;00m\u001b[39mdefaults\u001b[39;00m \u001b[39mimport\u001b[39;00m DefaultPrinting\n\u001b[1;32m     31\u001b[0m \u001b[39mfrom\u001b[39;00m \u001b[39msympy\u001b[39;00m\u001b[39m.\u001b[39;00m\u001b[39mutilities\u001b[39;00m \u001b[39mimport\u001b[39;00m public, subsets\n\u001b[1;32m     32\u001b[0m \u001b[39mfrom\u001b[39;00m \u001b[39msympy\u001b[39;00m\u001b[39m.\u001b[39;00m\u001b[39mutilities\u001b[39;00m\u001b[39m.\u001b[39;00m\u001b[39miterables\u001b[39;00m \u001b[39mimport\u001b[39;00m is_sequence\n",
      "File \u001b[0;32m/iris/u/nathu/un_camels/venv/lib/python3.8/site-packages/sympy/printing/__init__.py:5\u001b[0m\n\u001b[1;32m      1\u001b[0m \u001b[39m\"\"\"Printing subsystem\"\"\"\u001b[39;00m\n\u001b[1;32m      3\u001b[0m \u001b[39mfrom\u001b[39;00m \u001b[39m.\u001b[39;00m\u001b[39mpretty\u001b[39;00m \u001b[39mimport\u001b[39;00m pager_print, pretty, pretty_print, pprint, pprint_use_unicode, pprint_try_use_unicode\n\u001b[0;32m----> 5\u001b[0m \u001b[39mfrom\u001b[39;00m \u001b[39m.\u001b[39;00m\u001b[39mlatex\u001b[39;00m \u001b[39mimport\u001b[39;00m latex, print_latex, multiline_latex\n\u001b[1;32m      7\u001b[0m \u001b[39mfrom\u001b[39;00m \u001b[39m.\u001b[39;00m\u001b[39mmathml\u001b[39;00m \u001b[39mimport\u001b[39;00m mathml, print_mathml\n\u001b[1;32m      9\u001b[0m \u001b[39mfrom\u001b[39;00m \u001b[39m.\u001b[39;00m\u001b[39mpython\u001b[39;00m \u001b[39mimport\u001b[39;00m python, print_python\n",
      "File \u001b[0;32m<frozen importlib._bootstrap>:991\u001b[0m, in \u001b[0;36m_find_and_load\u001b[0;34m(name, import_)\u001b[0m\n",
      "File \u001b[0;32m<frozen importlib._bootstrap>:975\u001b[0m, in \u001b[0;36m_find_and_load_unlocked\u001b[0;34m(name, import_)\u001b[0m\n",
      "File \u001b[0;32m<frozen importlib._bootstrap>:671\u001b[0m, in \u001b[0;36m_load_unlocked\u001b[0;34m(spec)\u001b[0m\n",
      "File \u001b[0;32m<frozen importlib._bootstrap_external>:844\u001b[0m, in \u001b[0;36mexec_module\u001b[0;34m(self, module)\u001b[0m\n",
      "File \u001b[0;32m<frozen importlib._bootstrap_external>:939\u001b[0m, in \u001b[0;36mget_code\u001b[0;34m(self, fullname)\u001b[0m\n",
      "File \u001b[0;32m<frozen importlib._bootstrap_external>:1038\u001b[0m, in \u001b[0;36mget_data\u001b[0;34m(self, path)\u001b[0m\n",
      "\u001b[0;31mKeyboardInterrupt\u001b[0m: "
     ]
    }
   ],
   "source": [
    "import torch\n",
    "f = torch.nn.Softplus(beta = torch.log(2))\n",
    "f(0)"
   ]
  },
  {
   "cell_type": "code",
   "execution_count": 132,
   "metadata": {},
   "outputs": [
    {
     "data": {
      "text/html": [
       "<div>\n",
       "<style scoped>\n",
       "    .dataframe tbody tr th:only-of-type {\n",
       "        vertical-align: middle;\n",
       "    }\n",
       "\n",
       "    .dataframe tbody tr th {\n",
       "        vertical-align: top;\n",
       "    }\n",
       "\n",
       "    .dataframe thead th {\n",
       "        text-align: right;\n",
       "    }\n",
       "</style>\n",
       "<table border=\"1\" class=\"dataframe\">\n",
       "  <thead>\n",
       "    <tr style=\"text-align: right;\">\n",
       "      <th></th>\n",
       "      <th>title</th>\n",
       "      <th>match_title</th>\n",
       "      <th>match_score</th>\n",
       "      <th>date</th>\n",
       "      <th>match_date</th>\n",
       "      <th>text</th>\n",
       "      <th>match_text</th>\n",
       "    </tr>\n",
       "  </thead>\n",
       "  <tbody>\n",
       "    <tr>\n",
       "      <th>123595</th>\n",
       "      <td>Dinkins to Hire 1,058 More Officers by Spring</td>\n",
       "      <td>Dinkins Plans Service Cuts to Pay For Adding 1,058 Police Officers</td>\n",
       "      <td>0.972603</td>\n",
       "      <td>1990-08-06</td>\n",
       "      <td>1990-08-07</td>\n",
       "      <td>LEAD: In the face of stiff pressure to take action against rising crime in New York City, Mayor David N. Dinkins is to announce today that he will hire 1,058 new police officers by next spring to increase foot patrols in neighborhoods, a senior mayoral aide said last night.\\nIn the face of stiff...</td>\n",
       "      <td>LEAD: Pressured to respond to a recent string of alarming crimes in New York City, Mayor David N. Dinkins said yesterday that he would hire 1,058 new police officers by next spring to increase neighborhood foot patrols and would pay for this by cutting a range of other services.\\nPressured to re...</td>\n",
       "    </tr>\n",
       "    <tr>\n",
       "      <th>200628</th>\n",
       "      <td>Yields Up on Tax-Exempt Money Funds</td>\n",
       "      <td>Money Fund Yields Are Mixed in Week</td>\n",
       "      <td>0.972753</td>\n",
       "      <td>1991-08-29</td>\n",
       "      <td>1991-09-05</td>\n",
       "      <td>Yields of money market funds monitored by IBC/Donoghue's Money Fund Report were mixed for the week ended yesterday, with yields of tax-exempt funds rising as many usual buyers moved to longer maturities with higher yields.\\nThe seven-day compounded average yield for tax-exempt funds rose 2 basis...</td>\n",
       "      <td>Yields of money market funds monitored by IBC/Donoghue's Money Fund Report were mixed for the second consecutive week in the period that ended yesterday.\\nTax-exempt money fund yields moved up in the week because of a combination of more supply and less demand, as investors shifted to the higher...</td>\n",
       "    </tr>\n",
       "    <tr>\n",
       "      <th>158028</th>\n",
       "      <td>PAPERBACK BEST SELLERS: January 20, 1991</td>\n",
       "      <td>PAPERBACK BEST SELLERS: January 27, 1991</td>\n",
       "      <td>0.972648</td>\n",
       "      <td>1991-01-20</td>\n",
       "      <td>1991-01-27</td>\n",
       "      <td>Weeks\\nThis\\nOn\\nWeek\\nList\\nFiction\\n1\\n6\\nDANCES WITH WOLVES, by Michael Blake. (Fawcett, $4.95.) A Civil War veteran, stationed in Sioux country, adopts the ways of the Indians and fights for their principles.\\n2\\n36\\nTHE BONFIRE OF THE VANITIES, by Tom Wolfe. (Bantam, $5.95.) A bond trader c...</td>\n",
       "      <td>Weeks\\nThis\\nOn\\nWeek\\nList\\nFiction\\n1\\n7\\nDANCES WITH WOLVES, by Michael Blake. (Fawcett, $4.95.) A Civil War veteran, stationed in Sioux country, adopts the ways of the Indians.\\n2\\n3\\nMYSTERY, by Peter Straub. (Signet, $5.95.) A bright young man and an elderly eccentric join hands to solve a...</td>\n",
       "    </tr>\n",
       "    <tr>\n",
       "      <th>133495</th>\n",
       "      <td>U.S. Energy Options (and Habits)</td>\n",
       "      <td>Proposals for a U.S. Energy Policy: Some Possible, Most Not</td>\n",
       "      <td>0.972361</td>\n",
       "      <td>1990-09-24</td>\n",
       "      <td>1990-09-24</td>\n",
       "      <td>LEAD: From the day Ronald Reagan arrived in Washington until just before Saddam Hussein's troops reached Kuwait City, energy policy was a fringe issue in the United States. Now, the deployment of American troops in the Persian Gulf has left many policy makers wondering whether the United States ...</td>\n",
       "      <td>LEAD: From the day Ronald Reagan arrived in Washington until the day before Saddam Hussein's troops reached Kuwait City, energy policy was a fringe issue in the United States. Now, the deployment of American troops in the Persian Gulf to assure a steady flow of oil has left many policy makers wo...</td>\n",
       "    </tr>\n",
       "    <tr>\n",
       "      <th>45028</th>\n",
       "      <td>New Breed of Robots Have the Human Touch</td>\n",
       "      <td>Corrections</td>\n",
       "      <td>0.979142</td>\n",
       "      <td>1989-08-01</td>\n",
       "      <td>1989-08-09</td>\n",
       "      <td>LEAD: An article in Science Times on Aug. 1 about new robots called teleoperators referred incorrectly to the views of John Molino, president of the Tech-U-Fit Corporation in Alexandria, Va. He said he believed the robots would assist, but not replace, shuttle crews working in space.\\nAn article...</td>\n",
       "      <td>LEAD: An article in Science Times on Aug. 1 about new robots called teleoperators referred incorrectly to the views of John Molino, president of the Tech-U-Fit Corporation in Alexandria, Va. He said he believed the robots would assist, but not replace, shuttle crews working in space.\\nAn article...</td>\n",
       "    </tr>\n",
       "    <tr>\n",
       "      <th>154819</th>\n",
       "      <td>Woman Agrees to Sentence That Requires Birth Control</td>\n",
       "      <td>Woman in Abuse Case Agrees to Birth Control</td>\n",
       "      <td>0.975764</td>\n",
       "      <td>1991-01-04</td>\n",
       "      <td>1991-01-05</td>\n",
       "      <td>A mother who pleaded guilty to child abuse has agreed to have a birth control device implanted under her arm as part of a sentence of probation.\\nDarlene Johnson, who is pregnant, is to serve one year in jail before starting three years of probation, when a device that releases hormones to block...</td>\n",
       "      <td>A mother who pleaded guilty to child abuse has agreed to have a birth control device implanted under her arm as part of probation sentence.\\nThe woman, Darlene Johnson, who is pregnant, is to serve one year in jail before starting three years of probation, when a device that releases hormones to...</td>\n",
       "    </tr>\n",
       "    <tr>\n",
       "      <th>145671</th>\n",
       "      <td>PAPERBACK BEST SELLERS: November 18, 1990</td>\n",
       "      <td>PAPERBACK BEST SELLERS: November 25, 1990</td>\n",
       "      <td>0.973084</td>\n",
       "      <td>1990-11-18</td>\n",
       "      <td>1990-11-25</td>\n",
       "      <td>$\\nWeeks\\nThis\\nOn\\nWeek\\nList\\nFiction\\n1\\n3\\nDAWN, by V. C. Andrews. (Pocket, $5.95.) A series of horrors besets a Virginia schoolgirl.\\n2\\n5\\nDADDY, by Danielle Steel. (Dell, $5.95.) Unexpected crises wreck a man's safe world.\\n3\\n4\\nREASONABLE DOUBT, by Philip Friedman. (Ivy, $5.95.) A forme...</td>\n",
       "      <td>$\\nWeeks\\nThis\\nOn\\nWeek\\nList\\nFiction\\n1\\n4\\nDAWN, by V. C. Andrews. (Pocket, $5.95.) A series of horrors besets a Virginia schoolgirl.\\n2\\n6\\nDADDY, by Danielle Steel. (Dell, $5.95.) Unexpected crises wreck the safe, predictable world a man has built for himself and his family.\\n3\\n5\\nREASONA...</td>\n",
       "    </tr>\n",
       "    <tr>\n",
       "      <th>203533</th>\n",
       "      <td>PAPERBACK BEST SELLERS: September 15, 1991</td>\n",
       "      <td>PAPERBACK BEST SELLERS: September 22, 1991</td>\n",
       "      <td>0.972839</td>\n",
       "      <td>1991-09-15</td>\n",
       "      <td>1991-09-22</td>\n",
       "      <td>Weeks\\nThis\\nOn\\nWeek\\nList\\nFiction\\n1\\n3\\nFOUR PAST MIDNIGHT, by Stephen King. (Signet, $6.99.) Four novellas about horror and terror in the late-night hours.\\n2\\n4\\nTHE WOMEN IN HIS LIFE, by Barbara Taylor Bradford. (Ballantine, $5.99.) The rise of a tycoon, from Nazi Berlin to London and New...</td>\n",
       "      <td>Weeks\\nThis\\nOn\\nWeek\\nList\\nFiction\\n1\\n2\\nMEMORIES OF MIDNIGHT, by Sidney Sheldon. (Warner, $5.99.) The destiny of an American woman is haunted by a vengeful Greek tycoon.\\n2\\n4\\nFOUR PAST MIDNIGHT, by Stephen King. (Signet, $6.99.) Four novellas about horror and terror in the late-night hours...</td>\n",
       "    </tr>\n",
       "    <tr>\n",
       "      <th>164653</th>\n",
       "      <td>BEST SELLERS: February 24, 1991</td>\n",
       "      <td>BEST SELLERS: March 3, 1991</td>\n",
       "      <td>0.973451</td>\n",
       "      <td>1991-02-24</td>\n",
       "      <td>1991-03-03</td>\n",
       "      <td>Weeks\\nThis\\nLast\\nOn\\nWeek\\nWeek\\nList\\nFiction\\n1\\n1\\nHEARTBEAT, by Danielle Steel. (Delacorte, $21.95.) A chance meeting of a man and a woman, both with successful careers in television, enables them to solve their marital and romantic problems.\\n2\\n1\\n5\\nCOLD FIRE, by Dean R. Koontz. (Putnam...</td>\n",
       "      <td>Weeks\\nThis\\nLast\\nOn\\nWeek\\nWeek\\nList\\nFiction\\n1\\n1\\n2\\nHEARTBEAT, by Danielle Steel. (Delacorte, $21.95.) A chance meeting of a man and a woman, both with successful careers in television, enables them to solve their marital and romantic problems.\\n2\\n2\\n6\\nCOLD FIRE, by Dean R. Koontz. (Put...</td>\n",
       "    </tr>\n",
       "    <tr>\n",
       "      <th>185350</th>\n",
       "      <td>Stan Getz, 64, Saxophonist, Dies; A Melodist With His Own Sound</td>\n",
       "      <td>Stan Getz, 64, Jazz Innovator on Saxophone, Dies</td>\n",
       "      <td>0.970992</td>\n",
       "      <td>1991-06-07</td>\n",
       "      <td>1991-06-08</td>\n",
       "      <td>Stan Getz, one of jazz's best known figures and most explosively imaginative tenor saxophonists, died yesterday afternoon at his home in Malibu, Calif.  He was 64 years old.\\nThe cause of death was liver cancer, said his secretary, Maggie Crim, who was at the house.\\nMr. Getz was an extraordinar...</td>\n",
       "      <td>Stan Getz, one of jazz's most influential musicians and explosively imaginative tenor saxophonists, died on Thursday at his home in Malibu, Calif. He was 64 years old.\\nThe cause of death was liver cancer, his secretary, Maggie Crim, said.\\nMr. Getz was an extraordinary improviser who not only c...</td>\n",
       "    </tr>\n",
       "  </tbody>\n",
       "</table>\n",
       "</div>"
      ],
      "text/plain": [
       "                                                                  title  \\\n",
       "123595                    Dinkins to Hire 1,058 More Officers by Spring   \n",
       "200628                              Yields Up on Tax-Exempt Money Funds   \n",
       "158028                         PAPERBACK BEST SELLERS: January 20, 1991   \n",
       "133495                                 U.S. Energy Options (and Habits)   \n",
       "45028                          New Breed of Robots Have the Human Touch   \n",
       "154819             Woman Agrees to Sentence That Requires Birth Control   \n",
       "145671                        PAPERBACK BEST SELLERS: November 18, 1990   \n",
       "203533                       PAPERBACK BEST SELLERS: September 15, 1991   \n",
       "164653                                  BEST SELLERS: February 24, 1991   \n",
       "185350  Stan Getz, 64, Saxophonist, Dies; A Melodist With His Own Sound   \n",
       "\n",
       "                                                               match_title  \\\n",
       "123595  Dinkins Plans Service Cuts to Pay For Adding 1,058 Police Officers   \n",
       "200628                                 Money Fund Yields Are Mixed in Week   \n",
       "158028                            PAPERBACK BEST SELLERS: January 27, 1991   \n",
       "133495         Proposals for a U.S. Energy Policy: Some Possible, Most Not   \n",
       "45028                                                          Corrections   \n",
       "154819                         Woman in Abuse Case Agrees to Birth Control   \n",
       "145671                           PAPERBACK BEST SELLERS: November 25, 1990   \n",
       "203533                          PAPERBACK BEST SELLERS: September 22, 1991   \n",
       "164653                                         BEST SELLERS: March 3, 1991   \n",
       "185350                    Stan Getz, 64, Jazz Innovator on Saxophone, Dies   \n",
       "\n",
       "        match_score       date match_date  \\\n",
       "123595     0.972603 1990-08-06 1990-08-07   \n",
       "200628     0.972753 1991-08-29 1991-09-05   \n",
       "158028     0.972648 1991-01-20 1991-01-27   \n",
       "133495     0.972361 1990-09-24 1990-09-24   \n",
       "45028      0.979142 1989-08-01 1989-08-09   \n",
       "154819     0.975764 1991-01-04 1991-01-05   \n",
       "145671     0.973084 1990-11-18 1990-11-25   \n",
       "203533     0.972839 1991-09-15 1991-09-22   \n",
       "164653     0.973451 1991-02-24 1991-03-03   \n",
       "185350     0.970992 1991-06-07 1991-06-08   \n",
       "\n",
       "                                                                                                                                                                                                                                                                                                               text  \\\n",
       "123595  LEAD: In the face of stiff pressure to take action against rising crime in New York City, Mayor David N. Dinkins is to announce today that he will hire 1,058 new police officers by next spring to increase foot patrols in neighborhoods, a senior mayoral aide said last night.\\nIn the face of stiff...   \n",
       "200628  Yields of money market funds monitored by IBC/Donoghue's Money Fund Report were mixed for the week ended yesterday, with yields of tax-exempt funds rising as many usual buyers moved to longer maturities with higher yields.\\nThe seven-day compounded average yield for tax-exempt funds rose 2 basis...   \n",
       "158028  Weeks\\nThis\\nOn\\nWeek\\nList\\nFiction\\n1\\n6\\nDANCES WITH WOLVES, by Michael Blake. (Fawcett, $4.95.) A Civil War veteran, stationed in Sioux country, adopts the ways of the Indians and fights for their principles.\\n2\\n36\\nTHE BONFIRE OF THE VANITIES, by Tom Wolfe. (Bantam, $5.95.) A bond trader c...   \n",
       "133495  LEAD: From the day Ronald Reagan arrived in Washington until just before Saddam Hussein's troops reached Kuwait City, energy policy was a fringe issue in the United States. Now, the deployment of American troops in the Persian Gulf has left many policy makers wondering whether the United States ...   \n",
       "45028   LEAD: An article in Science Times on Aug. 1 about new robots called teleoperators referred incorrectly to the views of John Molino, president of the Tech-U-Fit Corporation in Alexandria, Va. He said he believed the robots would assist, but not replace, shuttle crews working in space.\\nAn article...   \n",
       "154819  A mother who pleaded guilty to child abuse has agreed to have a birth control device implanted under her arm as part of a sentence of probation.\\nDarlene Johnson, who is pregnant, is to serve one year in jail before starting three years of probation, when a device that releases hormones to block...   \n",
       "145671  $\\nWeeks\\nThis\\nOn\\nWeek\\nList\\nFiction\\n1\\n3\\nDAWN, by V. C. Andrews. (Pocket, $5.95.) A series of horrors besets a Virginia schoolgirl.\\n2\\n5\\nDADDY, by Danielle Steel. (Dell, $5.95.) Unexpected crises wreck a man's safe world.\\n3\\n4\\nREASONABLE DOUBT, by Philip Friedman. (Ivy, $5.95.) A forme...   \n",
       "203533  Weeks\\nThis\\nOn\\nWeek\\nList\\nFiction\\n1\\n3\\nFOUR PAST MIDNIGHT, by Stephen King. (Signet, $6.99.) Four novellas about horror and terror in the late-night hours.\\n2\\n4\\nTHE WOMEN IN HIS LIFE, by Barbara Taylor Bradford. (Ballantine, $5.99.) The rise of a tycoon, from Nazi Berlin to London and New...   \n",
       "164653  Weeks\\nThis\\nLast\\nOn\\nWeek\\nWeek\\nList\\nFiction\\n1\\n1\\nHEARTBEAT, by Danielle Steel. (Delacorte, $21.95.) A chance meeting of a man and a woman, both with successful careers in television, enables them to solve their marital and romantic problems.\\n2\\n1\\n5\\nCOLD FIRE, by Dean R. Koontz. (Putnam...   \n",
       "185350  Stan Getz, one of jazz's best known figures and most explosively imaginative tenor saxophonists, died yesterday afternoon at his home in Malibu, Calif.  He was 64 years old.\\nThe cause of death was liver cancer, said his secretary, Maggie Crim, who was at the house.\\nMr. Getz was an extraordinar...   \n",
       "\n",
       "                                                                                                                                                                                                                                                                                                         match_text  \n",
       "123595  LEAD: Pressured to respond to a recent string of alarming crimes in New York City, Mayor David N. Dinkins said yesterday that he would hire 1,058 new police officers by next spring to increase neighborhood foot patrols and would pay for this by cutting a range of other services.\\nPressured to re...  \n",
       "200628  Yields of money market funds monitored by IBC/Donoghue's Money Fund Report were mixed for the second consecutive week in the period that ended yesterday.\\nTax-exempt money fund yields moved up in the week because of a combination of more supply and less demand, as investors shifted to the higher...  \n",
       "158028  Weeks\\nThis\\nOn\\nWeek\\nList\\nFiction\\n1\\n7\\nDANCES WITH WOLVES, by Michael Blake. (Fawcett, $4.95.) A Civil War veteran, stationed in Sioux country, adopts the ways of the Indians.\\n2\\n3\\nMYSTERY, by Peter Straub. (Signet, $5.95.) A bright young man and an elderly eccentric join hands to solve a...  \n",
       "133495  LEAD: From the day Ronald Reagan arrived in Washington until the day before Saddam Hussein's troops reached Kuwait City, energy policy was a fringe issue in the United States. Now, the deployment of American troops in the Persian Gulf to assure a steady flow of oil has left many policy makers wo...  \n",
       "45028   LEAD: An article in Science Times on Aug. 1 about new robots called teleoperators referred incorrectly to the views of John Molino, president of the Tech-U-Fit Corporation in Alexandria, Va. He said he believed the robots would assist, but not replace, shuttle crews working in space.\\nAn article...  \n",
       "154819  A mother who pleaded guilty to child abuse has agreed to have a birth control device implanted under her arm as part of probation sentence.\\nThe woman, Darlene Johnson, who is pregnant, is to serve one year in jail before starting three years of probation, when a device that releases hormones to...  \n",
       "145671  $\\nWeeks\\nThis\\nOn\\nWeek\\nList\\nFiction\\n1\\n4\\nDAWN, by V. C. Andrews. (Pocket, $5.95.) A series of horrors besets a Virginia schoolgirl.\\n2\\n6\\nDADDY, by Danielle Steel. (Dell, $5.95.) Unexpected crises wreck the safe, predictable world a man has built for himself and his family.\\n3\\n5\\nREASONA...  \n",
       "203533  Weeks\\nThis\\nOn\\nWeek\\nList\\nFiction\\n1\\n2\\nMEMORIES OF MIDNIGHT, by Sidney Sheldon. (Warner, $5.99.) The destiny of an American woman is haunted by a vengeful Greek tycoon.\\n2\\n4\\nFOUR PAST MIDNIGHT, by Stephen King. (Signet, $6.99.) Four novellas about horror and terror in the late-night hours...  \n",
       "164653  Weeks\\nThis\\nLast\\nOn\\nWeek\\nWeek\\nList\\nFiction\\n1\\n1\\n2\\nHEARTBEAT, by Danielle Steel. (Delacorte, $21.95.) A chance meeting of a man and a woman, both with successful careers in television, enables them to solve their marital and romantic problems.\\n2\\n2\\n6\\nCOLD FIRE, by Dean R. Koontz. (Put...  \n",
       "185350  Stan Getz, one of jazz's most influential musicians and explosively imaginative tenor saxophonists, died on Thursday at his home in Malibu, Calif. He was 64 years old.\\nThe cause of death was liver cancer, his secretary, Maggie Crim, said.\\nMr. Getz was an extraordinary improviser who not only c...  "
      ]
     },
     "execution_count": 132,
     "metadata": {},
     "output_type": "execute_result"
    }
   ],
   "source": [
    "df[(df['match_score'] > 0.97)][['title', 'match_title', 'match_score', 'date', 'match_date', 'text', 'match_text']].sample(10)"
   ]
  },
  {
   "cell_type": "code",
   "execution_count": 6,
   "metadata": {},
   "outputs": [],
   "source": [
    "df.to_csv('/iris/u/nathu/un_camels/data/nyt/meta_train_split_with_matches_clean.json', index=False)"
   ]
  },
  {
   "cell_type": "code",
   "execution_count": null,
   "metadata": {},
   "outputs": [],
   "source": []
  }
 ],
 "metadata": {
  "kernelspec": {
   "display_name": "venv",
   "language": "python",
   "name": "python3"
  },
  "language_info": {
   "codemirror_mode": {
    "name": "ipython",
    "version": 3
   },
   "file_extension": ".py",
   "mimetype": "text/x-python",
   "name": "python",
   "nbconvert_exporter": "python",
   "pygments_lexer": "ipython3",
   "version": "3.8.10"
  },
  "orig_nbformat": 4
 },
 "nbformat": 4,
 "nbformat_minor": 2
}
